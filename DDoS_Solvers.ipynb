{
 "cells": [
  {
   "cell_type": "code",
   "execution_count": 3,
   "id": "b79db7ad-3478-4a27-b68a-05531875d88e",
   "metadata": {},
   "outputs": [],
   "source": [
    "import pandas as pd\n",
    "#import tensorflow as tf\n",
    "#gpus = tf.config.list_physical_devices(\"GPU\")"
   ]
  },
  {
   "cell_type": "code",
   "execution_count": 4,
   "id": "4002865b-9ede-4bed-83d0-bcb6ba7fbf49",
   "metadata": {},
   "outputs": [],
   "source": [
    "data=pd.read_csv('cicids2017.csv')"
   ]
  },
  {
   "cell_type": "code",
   "execution_count": 5,
   "id": "5dd7c81a-7757-410d-bdf8-844e35658ba4",
   "metadata": {},
   "outputs": [
    {
     "name": "stdout",
     "output_type": "stream",
     "text": [
      "<class 'pandas.core.frame.DataFrame'>\n",
      "RangeIndex: 692703 entries, 0 to 692702\n",
      "Data columns (total 79 columns):\n",
      " #   Column                        Non-Null Count   Dtype  \n",
      "---  ------                        --------------   -----  \n",
      " 0    Destination Port             692703 non-null  int64  \n",
      " 1    Flow Duration                692703 non-null  int64  \n",
      " 2    Total Fwd Packets            692703 non-null  int64  \n",
      " 3    Total Backward Packets       692703 non-null  int64  \n",
      " 4   Total Length of Fwd Packets   692703 non-null  int64  \n",
      " 5    Total Length of Bwd Packets  692703 non-null  int64  \n",
      " 6    Fwd Packet Length Max        692703 non-null  int64  \n",
      " 7    Fwd Packet Length Min        692703 non-null  int64  \n",
      " 8    Fwd Packet Length Mean       692703 non-null  float64\n",
      " 9    Fwd Packet Length Std        692703 non-null  float64\n",
      " 10  Bwd Packet Length Max         692703 non-null  int64  \n",
      " 11   Bwd Packet Length Min        692703 non-null  int64  \n",
      " 12   Bwd Packet Length Mean       692703 non-null  float64\n",
      " 13   Bwd Packet Length Std        692703 non-null  float64\n",
      " 14  Flow Bytes/s                  691695 non-null  float64\n",
      " 15   Flow Packets/s               692703 non-null  float64\n",
      " 16   Flow IAT Mean                692703 non-null  float64\n",
      " 17   Flow IAT Std                 692703 non-null  float64\n",
      " 18   Flow IAT Max                 692703 non-null  int64  \n",
      " 19   Flow IAT Min                 692703 non-null  int64  \n",
      " 20  Fwd IAT Total                 692703 non-null  int64  \n",
      " 21   Fwd IAT Mean                 692703 non-null  float64\n",
      " 22   Fwd IAT Std                  692703 non-null  float64\n",
      " 23   Fwd IAT Max                  692703 non-null  int64  \n",
      " 24   Fwd IAT Min                  692703 non-null  int64  \n",
      " 25  Bwd IAT Total                 692703 non-null  int64  \n",
      " 26   Bwd IAT Mean                 692703 non-null  float64\n",
      " 27   Bwd IAT Std                  692703 non-null  float64\n",
      " 28   Bwd IAT Max                  692703 non-null  int64  \n",
      " 29   Bwd IAT Min                  692703 non-null  int64  \n",
      " 30  Fwd PSH Flags                 692703 non-null  int64  \n",
      " 31   Bwd PSH Flags                692703 non-null  int64  \n",
      " 32   Fwd URG Flags                692703 non-null  int64  \n",
      " 33   Bwd URG Flags                692703 non-null  int64  \n",
      " 34   Fwd Header Length            692703 non-null  int64  \n",
      " 35   Bwd Header Length            692703 non-null  int64  \n",
      " 36  Fwd Packets/s                 692703 non-null  float64\n",
      " 37   Bwd Packets/s                692703 non-null  float64\n",
      " 38   Min Packet Length            692703 non-null  int64  \n",
      " 39   Max Packet Length            692703 non-null  int64  \n",
      " 40   Packet Length Mean           692703 non-null  float64\n",
      " 41   Packet Length Std            692703 non-null  float64\n",
      " 42   Packet Length Variance       692703 non-null  float64\n",
      " 43  FIN Flag Count                692703 non-null  int64  \n",
      " 44   SYN Flag Count               692703 non-null  int64  \n",
      " 45   RST Flag Count               692703 non-null  int64  \n",
      " 46   PSH Flag Count               692703 non-null  int64  \n",
      " 47   ACK Flag Count               692703 non-null  int64  \n",
      " 48   URG Flag Count               692703 non-null  int64  \n",
      " 49   CWE Flag Count               692703 non-null  int64  \n",
      " 50   ECE Flag Count               692703 non-null  int64  \n",
      " 51   Down/Up Ratio                692703 non-null  int64  \n",
      " 52   Average Packet Size          692703 non-null  float64\n",
      " 53   Avg Fwd Segment Size         692703 non-null  float64\n",
      " 54   Avg Bwd Segment Size         692703 non-null  float64\n",
      " 55   Fwd Header Length.1          692703 non-null  int64  \n",
      " 56  Fwd Avg Bytes/Bulk            692703 non-null  int64  \n",
      " 57   Fwd Avg Packets/Bulk         692703 non-null  int64  \n",
      " 58   Fwd Avg Bulk Rate            692703 non-null  int64  \n",
      " 59   Bwd Avg Bytes/Bulk           692703 non-null  int64  \n",
      " 60   Bwd Avg Packets/Bulk         692703 non-null  int64  \n",
      " 61  Bwd Avg Bulk Rate             692703 non-null  int64  \n",
      " 62  Subflow Fwd Packets           692703 non-null  int64  \n",
      " 63   Subflow Fwd Bytes            692703 non-null  int64  \n",
      " 64   Subflow Bwd Packets          692703 non-null  int64  \n",
      " 65   Subflow Bwd Bytes            692703 non-null  int64  \n",
      " 66  Init_Win_bytes_forward        692703 non-null  int64  \n",
      " 67   Init_Win_bytes_backward      692703 non-null  int64  \n",
      " 68   act_data_pkt_fwd             692703 non-null  int64  \n",
      " 69   min_seg_size_forward         692703 non-null  int64  \n",
      " 70  Active Mean                   692703 non-null  float64\n",
      " 71   Active Std                   692703 non-null  float64\n",
      " 72   Active Max                   692703 non-null  int64  \n",
      " 73   Active Min                   692703 non-null  int64  \n",
      " 74  Idle Mean                     692703 non-null  float64\n",
      " 75   Idle Std                     692703 non-null  float64\n",
      " 76   Idle Max                     692703 non-null  int64  \n",
      " 77   Idle Min                     692703 non-null  int64  \n",
      " 78   Label                        692703 non-null  object \n",
      "dtypes: float64(24), int64(54), object(1)\n",
      "memory usage: 417.5+ MB\n"
     ]
    }
   ],
   "source": [
    "data.info()"
   ]
  },
  {
   "cell_type": "code",
   "execution_count": 6,
   "id": "3affda31-0b2e-4c2b-b467-9fe85e06f55d",
   "metadata": {},
   "outputs": [
    {
     "data": {
      "text/plain": [
       "array(['BENIGN', 'DDoS slowloris', 'DDoS Slowhttptest', 'DDoS Hulk',\n",
       "       'DDoS GoldenEye', 'Heartbleed'], dtype=object)"
      ]
     },
     "execution_count": 6,
     "metadata": {},
     "output_type": "execute_result"
    }
   ],
   "source": [
    "data[' Label'].unique()"
   ]
  },
  {
   "cell_type": "code",
   "execution_count": 7,
   "id": "43a5e94c-7e6f-480a-97ed-d2822b8a02a7",
   "metadata": {},
   "outputs": [],
   "source": [
    "data = data[data[' Label'] != 'Heartbleed']"
   ]
  },
  {
   "cell_type": "code",
   "execution_count": 8,
   "id": "9c328155-a145-4b31-ae8e-4bec9f2b296f",
   "metadata": {},
   "outputs": [
    {
     "name": "stdout",
     "output_type": "stream",
     "text": [
      "<class 'pandas.core.frame.DataFrame'>\n",
      "Index: 692692 entries, 0 to 692702\n",
      "Data columns (total 79 columns):\n",
      " #   Column                        Non-Null Count   Dtype  \n",
      "---  ------                        --------------   -----  \n",
      " 0    Destination Port             692692 non-null  int64  \n",
      " 1    Flow Duration                692692 non-null  int64  \n",
      " 2    Total Fwd Packets            692692 non-null  int64  \n",
      " 3    Total Backward Packets       692692 non-null  int64  \n",
      " 4   Total Length of Fwd Packets   692692 non-null  int64  \n",
      " 5    Total Length of Bwd Packets  692692 non-null  int64  \n",
      " 6    Fwd Packet Length Max        692692 non-null  int64  \n",
      " 7    Fwd Packet Length Min        692692 non-null  int64  \n",
      " 8    Fwd Packet Length Mean       692692 non-null  float64\n",
      " 9    Fwd Packet Length Std        692692 non-null  float64\n",
      " 10  Bwd Packet Length Max         692692 non-null  int64  \n",
      " 11   Bwd Packet Length Min        692692 non-null  int64  \n",
      " 12   Bwd Packet Length Mean       692692 non-null  float64\n",
      " 13   Bwd Packet Length Std        692692 non-null  float64\n",
      " 14  Flow Bytes/s                  691684 non-null  float64\n",
      " 15   Flow Packets/s               692692 non-null  float64\n",
      " 16   Flow IAT Mean                692692 non-null  float64\n",
      " 17   Flow IAT Std                 692692 non-null  float64\n",
      " 18   Flow IAT Max                 692692 non-null  int64  \n",
      " 19   Flow IAT Min                 692692 non-null  int64  \n",
      " 20  Fwd IAT Total                 692692 non-null  int64  \n",
      " 21   Fwd IAT Mean                 692692 non-null  float64\n",
      " 22   Fwd IAT Std                  692692 non-null  float64\n",
      " 23   Fwd IAT Max                  692692 non-null  int64  \n",
      " 24   Fwd IAT Min                  692692 non-null  int64  \n",
      " 25  Bwd IAT Total                 692692 non-null  int64  \n",
      " 26   Bwd IAT Mean                 692692 non-null  float64\n",
      " 27   Bwd IAT Std                  692692 non-null  float64\n",
      " 28   Bwd IAT Max                  692692 non-null  int64  \n",
      " 29   Bwd IAT Min                  692692 non-null  int64  \n",
      " 30  Fwd PSH Flags                 692692 non-null  int64  \n",
      " 31   Bwd PSH Flags                692692 non-null  int64  \n",
      " 32   Fwd URG Flags                692692 non-null  int64  \n",
      " 33   Bwd URG Flags                692692 non-null  int64  \n",
      " 34   Fwd Header Length            692692 non-null  int64  \n",
      " 35   Bwd Header Length            692692 non-null  int64  \n",
      " 36  Fwd Packets/s                 692692 non-null  float64\n",
      " 37   Bwd Packets/s                692692 non-null  float64\n",
      " 38   Min Packet Length            692692 non-null  int64  \n",
      " 39   Max Packet Length            692692 non-null  int64  \n",
      " 40   Packet Length Mean           692692 non-null  float64\n",
      " 41   Packet Length Std            692692 non-null  float64\n",
      " 42   Packet Length Variance       692692 non-null  float64\n",
      " 43  FIN Flag Count                692692 non-null  int64  \n",
      " 44   SYN Flag Count               692692 non-null  int64  \n",
      " 45   RST Flag Count               692692 non-null  int64  \n",
      " 46   PSH Flag Count               692692 non-null  int64  \n",
      " 47   ACK Flag Count               692692 non-null  int64  \n",
      " 48   URG Flag Count               692692 non-null  int64  \n",
      " 49   CWE Flag Count               692692 non-null  int64  \n",
      " 50   ECE Flag Count               692692 non-null  int64  \n",
      " 51   Down/Up Ratio                692692 non-null  int64  \n",
      " 52   Average Packet Size          692692 non-null  float64\n",
      " 53   Avg Fwd Segment Size         692692 non-null  float64\n",
      " 54   Avg Bwd Segment Size         692692 non-null  float64\n",
      " 55   Fwd Header Length.1          692692 non-null  int64  \n",
      " 56  Fwd Avg Bytes/Bulk            692692 non-null  int64  \n",
      " 57   Fwd Avg Packets/Bulk         692692 non-null  int64  \n",
      " 58   Fwd Avg Bulk Rate            692692 non-null  int64  \n",
      " 59   Bwd Avg Bytes/Bulk           692692 non-null  int64  \n",
      " 60   Bwd Avg Packets/Bulk         692692 non-null  int64  \n",
      " 61  Bwd Avg Bulk Rate             692692 non-null  int64  \n",
      " 62  Subflow Fwd Packets           692692 non-null  int64  \n",
      " 63   Subflow Fwd Bytes            692692 non-null  int64  \n",
      " 64   Subflow Bwd Packets          692692 non-null  int64  \n",
      " 65   Subflow Bwd Bytes            692692 non-null  int64  \n",
      " 66  Init_Win_bytes_forward        692692 non-null  int64  \n",
      " 67   Init_Win_bytes_backward      692692 non-null  int64  \n",
      " 68   act_data_pkt_fwd             692692 non-null  int64  \n",
      " 69   min_seg_size_forward         692692 non-null  int64  \n",
      " 70  Active Mean                   692692 non-null  float64\n",
      " 71   Active Std                   692692 non-null  float64\n",
      " 72   Active Max                   692692 non-null  int64  \n",
      " 73   Active Min                   692692 non-null  int64  \n",
      " 74  Idle Mean                     692692 non-null  float64\n",
      " 75   Idle Std                     692692 non-null  float64\n",
      " 76   Idle Max                     692692 non-null  int64  \n",
      " 77   Idle Min                     692692 non-null  int64  \n",
      " 78   Label                        692692 non-null  object \n",
      "dtypes: float64(24), int64(54), object(1)\n",
      "memory usage: 422.8+ MB\n"
     ]
    }
   ],
   "source": [
    "data.info()"
   ]
  },
  {
   "cell_type": "code",
   "execution_count": 9,
   "id": "bf6a474b-8825-4983-967b-19e3727fbbe9",
   "metadata": {},
   "outputs": [
    {
     "data": {
      "text/plain": [
       "array(['BENIGN', 'DDoS slowloris', 'DDoS Slowhttptest', 'DDoS Hulk',\n",
       "       'DDoS GoldenEye'], dtype=object)"
      ]
     },
     "execution_count": 9,
     "metadata": {},
     "output_type": "execute_result"
    }
   ],
   "source": [
    "data[' Label'].unique()"
   ]
  },
  {
   "cell_type": "code",
   "execution_count": 10,
   "id": "6f273d23-5d12-41a3-a9ad-8187a5f9ab0a",
   "metadata": {},
   "outputs": [
    {
     "data": {
      "text/plain": [
       " Label\n",
       "BENIGN               440031\n",
       "DDoS Hulk            231073\n",
       "DDoS GoldenEye        10293\n",
       "DDoS slowloris         5796\n",
       "DDoS Slowhttptest      5499\n",
       "Name: count, dtype: int64"
      ]
     },
     "execution_count": 10,
     "metadata": {},
     "output_type": "execute_result"
    }
   ],
   "source": [
    "data[' Label'].value_counts()"
   ]
  },
  {
   "cell_type": "code",
   "execution_count": 11,
   "id": "863761f0-e0aa-47d8-90bd-bc1be3456012",
   "metadata": {},
   "outputs": [
    {
     "name": "stdout",
     "output_type": "stream",
     "text": [
      "NaN values before: 1008, after: 0\n",
      "Infinite values (Flow Bytes/s) before: 289, after: 0\n",
      "Infinite values (Flow Packets/s) before: 1297, after: 0\n"
     ]
    }
   ],
   "source": [
    "import numpy as np\n",
    "\n",
    "# Load the dataset\n",
    "# Assuming 'data' is the DataFrame containing the dataset\n",
    "\n",
    "# Identify NaN and infinite values\n",
    "nan_values = data['Flow Bytes/s'].isna().sum()\n",
    "inf_values_flow_bytes = np.isinf(data['Flow Bytes/s']).sum()\n",
    "inf_values_flow_packets = np.isinf(data[' Flow Packets/s']).sum()\n",
    "\n",
    "# Calculate median and maximum values\n",
    "median_flow_bytes = data['Flow Bytes/s'].median()\n",
    "max_flow_bytes = data['Flow Bytes/s'][~np.isinf(data['Flow Bytes/s'])].max()\n",
    "max_flow_packets = data[' Flow Packets/s'][~np.isinf(data[' Flow Packets/s'])].max()\n",
    "\n",
    "# Replace NaN and infinite values\n",
    "#data['Flow Bytes/s'].fillna(median_flow_bytes, inplace=True)\n",
    "#data['Flow Bytes/s'].replace(np.inf, max_flow_bytes, inplace=True)\n",
    "#data[' Flow Packets/s'].replace(np.inf, max_flow_packets, inplace=True)\n",
    "data['Flow Bytes/s'] = data['Flow Bytes/s'].fillna(median_flow_bytes)\n",
    "data['Flow Bytes/s'] = data['Flow Bytes/s'].replace(np.inf, max_flow_bytes)\n",
    "data[' Flow Packets/s'] = data[' Flow Packets/s'].replace(np.inf, max_flow_packets)\n",
    "\n",
    "\n",
    "# Confirm the changes\n",
    "updated_nan_values = data['Flow Bytes/s'].isna().sum()\n",
    "updated_inf_values_flow_bytes = np.isinf(data['Flow Bytes/s']).sum()\n",
    "updated_inf_values_flow_packets = np.isinf(data[' Flow Packets/s']).sum()\n",
    "\n",
    "# Print summary\n",
    "print(f\"NaN values before: {nan_values}, after: {updated_nan_values}\")\n",
    "print(f\"Infinite values (Flow Bytes/s) before: {inf_values_flow_bytes}, after: {updated_inf_values_flow_bytes}\")\n",
    "print(f\"Infinite values (Flow Packets/s) before: {inf_values_flow_packets}, after: {updated_inf_values_flow_packets}\")"
   ]
  },
  {
   "cell_type": "code",
   "execution_count": 12,
   "id": "1ad2032c-a018-4e83-bbb8-ab5dbfcc7f81",
   "metadata": {},
   "outputs": [],
   "source": [
    "from sklearn.preprocessing import LabelEncoder, StandardScaler\n",
    "X = data.drop(columns=[' Label'])  # Assuming 'label' is the target variable\n",
    "y = data[' Label']\n",
    "label_encoder = LabelEncoder()\n",
    "y = label_encoder.fit_transform(y)\n"
   ]
  },
  {
   "cell_type": "code",
   "execution_count": 13,
   "id": "5eba01d9-87a2-485e-9a09-030e34dad940",
   "metadata": {},
   "outputs": [
    {
     "data": {
      "text/html": [
       "<div>\n",
       "<style scoped>\n",
       "    .dataframe tbody tr th:only-of-type {\n",
       "        vertical-align: middle;\n",
       "    }\n",
       "\n",
       "    .dataframe tbody tr th {\n",
       "        vertical-align: top;\n",
       "    }\n",
       "\n",
       "    .dataframe thead th {\n",
       "        text-align: right;\n",
       "    }\n",
       "</style>\n",
       "<table border=\"1\" class=\"dataframe\">\n",
       "  <thead>\n",
       "    <tr style=\"text-align: right;\">\n",
       "      <th></th>\n",
       "      <th>Destination Port</th>\n",
       "      <th>Flow Duration</th>\n",
       "      <th>Total Fwd Packets</th>\n",
       "      <th>Total Backward Packets</th>\n",
       "      <th>Total Length of Fwd Packets</th>\n",
       "      <th>Total Length of Bwd Packets</th>\n",
       "      <th>Fwd Packet Length Max</th>\n",
       "      <th>Fwd Packet Length Min</th>\n",
       "      <th>Fwd Packet Length Mean</th>\n",
       "      <th>Fwd Packet Length Std</th>\n",
       "      <th>...</th>\n",
       "      <th>act_data_pkt_fwd</th>\n",
       "      <th>min_seg_size_forward</th>\n",
       "      <th>Active Mean</th>\n",
       "      <th>Active Std</th>\n",
       "      <th>Active Max</th>\n",
       "      <th>Active Min</th>\n",
       "      <th>Idle Mean</th>\n",
       "      <th>Idle Std</th>\n",
       "      <th>Idle Max</th>\n",
       "      <th>Idle Min</th>\n",
       "    </tr>\n",
       "  </thead>\n",
       "  <tbody>\n",
       "    <tr>\n",
       "      <th>0</th>\n",
       "      <td>80</td>\n",
       "      <td>38308</td>\n",
       "      <td>1</td>\n",
       "      <td>1</td>\n",
       "      <td>6</td>\n",
       "      <td>6</td>\n",
       "      <td>6</td>\n",
       "      <td>6</td>\n",
       "      <td>6.000000</td>\n",
       "      <td>0.000000</td>\n",
       "      <td>...</td>\n",
       "      <td>0</td>\n",
       "      <td>20</td>\n",
       "      <td>0.0</td>\n",
       "      <td>0.0</td>\n",
       "      <td>0</td>\n",
       "      <td>0</td>\n",
       "      <td>0.0</td>\n",
       "      <td>0.0</td>\n",
       "      <td>0</td>\n",
       "      <td>0</td>\n",
       "    </tr>\n",
       "    <tr>\n",
       "      <th>1</th>\n",
       "      <td>389</td>\n",
       "      <td>479</td>\n",
       "      <td>11</td>\n",
       "      <td>5</td>\n",
       "      <td>172</td>\n",
       "      <td>326</td>\n",
       "      <td>79</td>\n",
       "      <td>0</td>\n",
       "      <td>15.636364</td>\n",
       "      <td>31.449238</td>\n",
       "      <td>...</td>\n",
       "      <td>4</td>\n",
       "      <td>32</td>\n",
       "      <td>0.0</td>\n",
       "      <td>0.0</td>\n",
       "      <td>0</td>\n",
       "      <td>0</td>\n",
       "      <td>0.0</td>\n",
       "      <td>0.0</td>\n",
       "      <td>0</td>\n",
       "      <td>0</td>\n",
       "    </tr>\n",
       "    <tr>\n",
       "      <th>2</th>\n",
       "      <td>88</td>\n",
       "      <td>1095</td>\n",
       "      <td>10</td>\n",
       "      <td>6</td>\n",
       "      <td>3150</td>\n",
       "      <td>3150</td>\n",
       "      <td>1575</td>\n",
       "      <td>0</td>\n",
       "      <td>315.000000</td>\n",
       "      <td>632.561635</td>\n",
       "      <td>...</td>\n",
       "      <td>3</td>\n",
       "      <td>32</td>\n",
       "      <td>0.0</td>\n",
       "      <td>0.0</td>\n",
       "      <td>0</td>\n",
       "      <td>0</td>\n",
       "      <td>0.0</td>\n",
       "      <td>0.0</td>\n",
       "      <td>0</td>\n",
       "      <td>0</td>\n",
       "    </tr>\n",
       "    <tr>\n",
       "      <th>3</th>\n",
       "      <td>389</td>\n",
       "      <td>15206</td>\n",
       "      <td>17</td>\n",
       "      <td>12</td>\n",
       "      <td>3452</td>\n",
       "      <td>6660</td>\n",
       "      <td>1313</td>\n",
       "      <td>0</td>\n",
       "      <td>203.058823</td>\n",
       "      <td>425.778474</td>\n",
       "      <td>...</td>\n",
       "      <td>10</td>\n",
       "      <td>32</td>\n",
       "      <td>0.0</td>\n",
       "      <td>0.0</td>\n",
       "      <td>0</td>\n",
       "      <td>0</td>\n",
       "      <td>0.0</td>\n",
       "      <td>0.0</td>\n",
       "      <td>0</td>\n",
       "      <td>0</td>\n",
       "    </tr>\n",
       "    <tr>\n",
       "      <th>4</th>\n",
       "      <td>88</td>\n",
       "      <td>1092</td>\n",
       "      <td>9</td>\n",
       "      <td>6</td>\n",
       "      <td>3150</td>\n",
       "      <td>3152</td>\n",
       "      <td>1575</td>\n",
       "      <td>0</td>\n",
       "      <td>350.000000</td>\n",
       "      <td>694.509719</td>\n",
       "      <td>...</td>\n",
       "      <td>2</td>\n",
       "      <td>32</td>\n",
       "      <td>0.0</td>\n",
       "      <td>0.0</td>\n",
       "      <td>0</td>\n",
       "      <td>0</td>\n",
       "      <td>0.0</td>\n",
       "      <td>0.0</td>\n",
       "      <td>0</td>\n",
       "      <td>0</td>\n",
       "    </tr>\n",
       "    <tr>\n",
       "      <th>...</th>\n",
       "      <td>...</td>\n",
       "      <td>...</td>\n",
       "      <td>...</td>\n",
       "      <td>...</td>\n",
       "      <td>...</td>\n",
       "      <td>...</td>\n",
       "      <td>...</td>\n",
       "      <td>...</td>\n",
       "      <td>...</td>\n",
       "      <td>...</td>\n",
       "      <td>...</td>\n",
       "      <td>...</td>\n",
       "      <td>...</td>\n",
       "      <td>...</td>\n",
       "      <td>...</td>\n",
       "      <td>...</td>\n",
       "      <td>...</td>\n",
       "      <td>...</td>\n",
       "      <td>...</td>\n",
       "      <td>...</td>\n",
       "      <td>...</td>\n",
       "    </tr>\n",
       "    <tr>\n",
       "      <th>692698</th>\n",
       "      <td>53</td>\n",
       "      <td>32215</td>\n",
       "      <td>4</td>\n",
       "      <td>2</td>\n",
       "      <td>112</td>\n",
       "      <td>152</td>\n",
       "      <td>28</td>\n",
       "      <td>28</td>\n",
       "      <td>28.000000</td>\n",
       "      <td>0.000000</td>\n",
       "      <td>...</td>\n",
       "      <td>3</td>\n",
       "      <td>20</td>\n",
       "      <td>0.0</td>\n",
       "      <td>0.0</td>\n",
       "      <td>0</td>\n",
       "      <td>0</td>\n",
       "      <td>0.0</td>\n",
       "      <td>0.0</td>\n",
       "      <td>0</td>\n",
       "      <td>0</td>\n",
       "    </tr>\n",
       "    <tr>\n",
       "      <th>692699</th>\n",
       "      <td>53</td>\n",
       "      <td>324</td>\n",
       "      <td>2</td>\n",
       "      <td>2</td>\n",
       "      <td>84</td>\n",
       "      <td>362</td>\n",
       "      <td>42</td>\n",
       "      <td>42</td>\n",
       "      <td>42.000000</td>\n",
       "      <td>0.000000</td>\n",
       "      <td>...</td>\n",
       "      <td>1</td>\n",
       "      <td>20</td>\n",
       "      <td>0.0</td>\n",
       "      <td>0.0</td>\n",
       "      <td>0</td>\n",
       "      <td>0</td>\n",
       "      <td>0.0</td>\n",
       "      <td>0.0</td>\n",
       "      <td>0</td>\n",
       "      <td>0</td>\n",
       "    </tr>\n",
       "    <tr>\n",
       "      <th>692700</th>\n",
       "      <td>58030</td>\n",
       "      <td>82</td>\n",
       "      <td>2</td>\n",
       "      <td>1</td>\n",
       "      <td>31</td>\n",
       "      <td>6</td>\n",
       "      <td>31</td>\n",
       "      <td>0</td>\n",
       "      <td>15.500000</td>\n",
       "      <td>21.920310</td>\n",
       "      <td>...</td>\n",
       "      <td>0</td>\n",
       "      <td>32</td>\n",
       "      <td>0.0</td>\n",
       "      <td>0.0</td>\n",
       "      <td>0</td>\n",
       "      <td>0</td>\n",
       "      <td>0.0</td>\n",
       "      <td>0.0</td>\n",
       "      <td>0</td>\n",
       "      <td>0</td>\n",
       "    </tr>\n",
       "    <tr>\n",
       "      <th>692701</th>\n",
       "      <td>53</td>\n",
       "      <td>1048635</td>\n",
       "      <td>6</td>\n",
       "      <td>2</td>\n",
       "      <td>192</td>\n",
       "      <td>256</td>\n",
       "      <td>32</td>\n",
       "      <td>32</td>\n",
       "      <td>32.000000</td>\n",
       "      <td>0.000000</td>\n",
       "      <td>...</td>\n",
       "      <td>5</td>\n",
       "      <td>20</td>\n",
       "      <td>0.0</td>\n",
       "      <td>0.0</td>\n",
       "      <td>0</td>\n",
       "      <td>0</td>\n",
       "      <td>0.0</td>\n",
       "      <td>0.0</td>\n",
       "      <td>0</td>\n",
       "      <td>0</td>\n",
       "    </tr>\n",
       "    <tr>\n",
       "      <th>692702</th>\n",
       "      <td>53</td>\n",
       "      <td>94939</td>\n",
       "      <td>4</td>\n",
       "      <td>2</td>\n",
       "      <td>188</td>\n",
       "      <td>226</td>\n",
       "      <td>47</td>\n",
       "      <td>47</td>\n",
       "      <td>47.000000</td>\n",
       "      <td>0.000000</td>\n",
       "      <td>...</td>\n",
       "      <td>3</td>\n",
       "      <td>20</td>\n",
       "      <td>0.0</td>\n",
       "      <td>0.0</td>\n",
       "      <td>0</td>\n",
       "      <td>0</td>\n",
       "      <td>0.0</td>\n",
       "      <td>0.0</td>\n",
       "      <td>0</td>\n",
       "      <td>0</td>\n",
       "    </tr>\n",
       "  </tbody>\n",
       "</table>\n",
       "<p>692692 rows × 78 columns</p>\n",
       "</div>"
      ],
      "text/plain": [
       "         Destination Port   Flow Duration   Total Fwd Packets  \\\n",
       "0                      80           38308                   1   \n",
       "1                     389             479                  11   \n",
       "2                      88            1095                  10   \n",
       "3                     389           15206                  17   \n",
       "4                      88            1092                   9   \n",
       "...                   ...             ...                 ...   \n",
       "692698                 53           32215                   4   \n",
       "692699                 53             324                   2   \n",
       "692700              58030              82                   2   \n",
       "692701                 53         1048635                   6   \n",
       "692702                 53           94939                   4   \n",
       "\n",
       "         Total Backward Packets  Total Length of Fwd Packets  \\\n",
       "0                             1                            6   \n",
       "1                             5                          172   \n",
       "2                             6                         3150   \n",
       "3                            12                         3452   \n",
       "4                             6                         3150   \n",
       "...                         ...                          ...   \n",
       "692698                        2                          112   \n",
       "692699                        2                           84   \n",
       "692700                        1                           31   \n",
       "692701                        2                          192   \n",
       "692702                        2                          188   \n",
       "\n",
       "         Total Length of Bwd Packets   Fwd Packet Length Max  \\\n",
       "0                                  6                       6   \n",
       "1                                326                      79   \n",
       "2                               3150                    1575   \n",
       "3                               6660                    1313   \n",
       "4                               3152                    1575   \n",
       "...                              ...                     ...   \n",
       "692698                           152                      28   \n",
       "692699                           362                      42   \n",
       "692700                             6                      31   \n",
       "692701                           256                      32   \n",
       "692702                           226                      47   \n",
       "\n",
       "         Fwd Packet Length Min   Fwd Packet Length Mean  \\\n",
       "0                            6                 6.000000   \n",
       "1                            0                15.636364   \n",
       "2                            0               315.000000   \n",
       "3                            0               203.058823   \n",
       "4                            0               350.000000   \n",
       "...                        ...                      ...   \n",
       "692698                      28                28.000000   \n",
       "692699                      42                42.000000   \n",
       "692700                       0                15.500000   \n",
       "692701                      32                32.000000   \n",
       "692702                      47                47.000000   \n",
       "\n",
       "         Fwd Packet Length Std  ...   act_data_pkt_fwd   min_seg_size_forward  \\\n",
       "0                     0.000000  ...                  0                     20   \n",
       "1                    31.449238  ...                  4                     32   \n",
       "2                   632.561635  ...                  3                     32   \n",
       "3                   425.778474  ...                 10                     32   \n",
       "4                   694.509719  ...                  2                     32   \n",
       "...                        ...  ...                ...                    ...   \n",
       "692698                0.000000  ...                  3                     20   \n",
       "692699                0.000000  ...                  1                     20   \n",
       "692700               21.920310  ...                  0                     32   \n",
       "692701                0.000000  ...                  5                     20   \n",
       "692702                0.000000  ...                  3                     20   \n",
       "\n",
       "        Active Mean   Active Std   Active Max   Active Min  Idle Mean  \\\n",
       "0               0.0          0.0            0            0        0.0   \n",
       "1               0.0          0.0            0            0        0.0   \n",
       "2               0.0          0.0            0            0        0.0   \n",
       "3               0.0          0.0            0            0        0.0   \n",
       "4               0.0          0.0            0            0        0.0   \n",
       "...             ...          ...          ...          ...        ...   \n",
       "692698          0.0          0.0            0            0        0.0   \n",
       "692699          0.0          0.0            0            0        0.0   \n",
       "692700          0.0          0.0            0            0        0.0   \n",
       "692701          0.0          0.0            0            0        0.0   \n",
       "692702          0.0          0.0            0            0        0.0   \n",
       "\n",
       "         Idle Std   Idle Max   Idle Min  \n",
       "0             0.0          0          0  \n",
       "1             0.0          0          0  \n",
       "2             0.0          0          0  \n",
       "3             0.0          0          0  \n",
       "4             0.0          0          0  \n",
       "...           ...        ...        ...  \n",
       "692698        0.0          0          0  \n",
       "692699        0.0          0          0  \n",
       "692700        0.0          0          0  \n",
       "692701        0.0          0          0  \n",
       "692702        0.0          0          0  \n",
       "\n",
       "[692692 rows x 78 columns]"
      ]
     },
     "execution_count": 13,
     "metadata": {},
     "output_type": "execute_result"
    }
   ],
   "source": [
    "X"
   ]
  },
  {
   "cell_type": "code",
   "execution_count": 14,
   "id": "ed39b56b-011d-47ab-a096-ee4550106b15",
   "metadata": {},
   "outputs": [],
   "source": [
    "from sklearn.tree import DecisionTreeClassifier\n",
    "from sklearn.model_selection import train_test_split"
   ]
  },
  {
   "cell_type": "code",
   "execution_count": 15,
   "id": "dcebacb5-991e-4cd0-9735-f4f260c248e2",
   "metadata": {},
   "outputs": [],
   "source": [
    "X_train, X_test, y_train, y_test = train_test_split(X, y, test_size=0.2, random_state=42)"
   ]
  },
  {
   "cell_type": "code",
   "execution_count": 16,
   "id": "d61ea7db-26e8-4f9e-b539-7b41f2085606",
   "metadata": {},
   "outputs": [],
   "source": [
    "dt_classifier = DecisionTreeClassifier()"
   ]
  },
  {
   "cell_type": "code",
   "execution_count": 17,
   "id": "9dd2e2e7-a2c8-46bd-b053-e822f2345442",
   "metadata": {},
   "outputs": [
    {
     "data": {
      "text/html": [
       "<style>#sk-container-id-1 {color: black;}#sk-container-id-1 pre{padding: 0;}#sk-container-id-1 div.sk-toggleable {background-color: white;}#sk-container-id-1 label.sk-toggleable__label {cursor: pointer;display: block;width: 100%;margin-bottom: 0;padding: 0.3em;box-sizing: border-box;text-align: center;}#sk-container-id-1 label.sk-toggleable__label-arrow:before {content: \"▸\";float: left;margin-right: 0.25em;color: #696969;}#sk-container-id-1 label.sk-toggleable__label-arrow:hover:before {color: black;}#sk-container-id-1 div.sk-estimator:hover label.sk-toggleable__label-arrow:before {color: black;}#sk-container-id-1 div.sk-toggleable__content {max-height: 0;max-width: 0;overflow: hidden;text-align: left;background-color: #f0f8ff;}#sk-container-id-1 div.sk-toggleable__content pre {margin: 0.2em;color: black;border-radius: 0.25em;background-color: #f0f8ff;}#sk-container-id-1 input.sk-toggleable__control:checked~div.sk-toggleable__content {max-height: 200px;max-width: 100%;overflow: auto;}#sk-container-id-1 input.sk-toggleable__control:checked~label.sk-toggleable__label-arrow:before {content: \"▾\";}#sk-container-id-1 div.sk-estimator input.sk-toggleable__control:checked~label.sk-toggleable__label {background-color: #d4ebff;}#sk-container-id-1 div.sk-label input.sk-toggleable__control:checked~label.sk-toggleable__label {background-color: #d4ebff;}#sk-container-id-1 input.sk-hidden--visually {border: 0;clip: rect(1px 1px 1px 1px);clip: rect(1px, 1px, 1px, 1px);height: 1px;margin: -1px;overflow: hidden;padding: 0;position: absolute;width: 1px;}#sk-container-id-1 div.sk-estimator {font-family: monospace;background-color: #f0f8ff;border: 1px dotted black;border-radius: 0.25em;box-sizing: border-box;margin-bottom: 0.5em;}#sk-container-id-1 div.sk-estimator:hover {background-color: #d4ebff;}#sk-container-id-1 div.sk-parallel-item::after {content: \"\";width: 100%;border-bottom: 1px solid gray;flex-grow: 1;}#sk-container-id-1 div.sk-label:hover label.sk-toggleable__label {background-color: #d4ebff;}#sk-container-id-1 div.sk-serial::before {content: \"\";position: absolute;border-left: 1px solid gray;box-sizing: border-box;top: 0;bottom: 0;left: 50%;z-index: 0;}#sk-container-id-1 div.sk-serial {display: flex;flex-direction: column;align-items: center;background-color: white;padding-right: 0.2em;padding-left: 0.2em;position: relative;}#sk-container-id-1 div.sk-item {position: relative;z-index: 1;}#sk-container-id-1 div.sk-parallel {display: flex;align-items: stretch;justify-content: center;background-color: white;position: relative;}#sk-container-id-1 div.sk-item::before, #sk-container-id-1 div.sk-parallel-item::before {content: \"\";position: absolute;border-left: 1px solid gray;box-sizing: border-box;top: 0;bottom: 0;left: 50%;z-index: -1;}#sk-container-id-1 div.sk-parallel-item {display: flex;flex-direction: column;z-index: 1;position: relative;background-color: white;}#sk-container-id-1 div.sk-parallel-item:first-child::after {align-self: flex-end;width: 50%;}#sk-container-id-1 div.sk-parallel-item:last-child::after {align-self: flex-start;width: 50%;}#sk-container-id-1 div.sk-parallel-item:only-child::after {width: 0;}#sk-container-id-1 div.sk-dashed-wrapped {border: 1px dashed gray;margin: 0 0.4em 0.5em 0.4em;box-sizing: border-box;padding-bottom: 0.4em;background-color: white;}#sk-container-id-1 div.sk-label label {font-family: monospace;font-weight: bold;display: inline-block;line-height: 1.2em;}#sk-container-id-1 div.sk-label-container {text-align: center;}#sk-container-id-1 div.sk-container {/* jupyter's `normalize.less` sets `[hidden] { display: none; }` but bootstrap.min.css set `[hidden] { display: none !important; }` so we also need the `!important` here to be able to override the default hidden behavior on the sphinx rendered scikit-learn.org. See: https://github.com/scikit-learn/scikit-learn/issues/21755 */display: inline-block !important;position: relative;}#sk-container-id-1 div.sk-text-repr-fallback {display: none;}</style><div id=\"sk-container-id-1\" class=\"sk-top-container\"><div class=\"sk-text-repr-fallback\"><pre>DecisionTreeClassifier()</pre><b>In a Jupyter environment, please rerun this cell to show the HTML representation or trust the notebook. <br />On GitHub, the HTML representation is unable to render, please try loading this page with nbviewer.org.</b></div><div class=\"sk-container\" hidden><div class=\"sk-item\"><div class=\"sk-estimator sk-toggleable\"><input class=\"sk-toggleable__control sk-hidden--visually\" id=\"sk-estimator-id-1\" type=\"checkbox\" checked><label for=\"sk-estimator-id-1\" class=\"sk-toggleable__label sk-toggleable__label-arrow\">DecisionTreeClassifier</label><div class=\"sk-toggleable__content\"><pre>DecisionTreeClassifier()</pre></div></div></div></div></div>"
      ],
      "text/plain": [
       "DecisionTreeClassifier()"
      ]
     },
     "execution_count": 17,
     "metadata": {},
     "output_type": "execute_result"
    }
   ],
   "source": [
    "dt_classifier.fit(X_train, y_train)"
   ]
  },
  {
   "cell_type": "code",
   "execution_count": 18,
   "id": "e735d660-1950-4b84-b9ba-5e2dda228f45",
   "metadata": {},
   "outputs": [],
   "source": [
    "feature_importances = dt_classifier.feature_importances_"
   ]
  },
  {
   "cell_type": "code",
   "execution_count": 19,
   "id": "72bd716b-4338-4259-8eec-b9701451a572",
   "metadata": {},
   "outputs": [
    {
     "data": {
      "text/plain": [
       "array([1.02716684e-01, 6.18579330e-04, 1.15787076e-05, 2.08754720e-03,\n",
       "       5.11537932e-05, 4.00139143e-02, 1.31917641e-03, 2.43211740e-03,\n",
       "       1.39653391e-05, 0.00000000e+00, 1.35425056e-03, 7.61935979e-06,\n",
       "       7.44304902e-06, 4.97131311e-01, 3.13207285e-04, 4.55024345e-04,\n",
       "       6.96393935e-02, 1.95040027e-03, 1.02534202e-04, 8.61123758e-03,\n",
       "       2.17955584e-04, 1.29011019e-04, 4.47080893e-05, 1.32029071e-03,\n",
       "       4.81831321e-03, 1.08788956e-05, 8.13393486e-06, 5.92974202e-03,\n",
       "       7.44192517e-06, 3.55233918e-04, 0.00000000e+00, 0.00000000e+00,\n",
       "       0.00000000e+00, 0.00000000e+00, 2.51655814e-03, 3.14956531e-05,\n",
       "       5.28100485e-04, 1.84203790e-02, 0.00000000e+00, 2.45406505e-04,\n",
       "       2.01151073e-01, 1.14017876e-04, 1.86190843e-03, 2.09354938e-03,\n",
       "       0.00000000e+00, 0.00000000e+00, 8.09652754e-06, 6.61640432e-06,\n",
       "       2.81033199e-05, 0.00000000e+00, 0.00000000e+00, 2.78529279e-05,\n",
       "       3.75876761e-06, 1.62209536e-04, 1.78642917e-05, 5.80741310e-03,\n",
       "       0.00000000e+00, 0.00000000e+00, 0.00000000e+00, 0.00000000e+00,\n",
       "       0.00000000e+00, 0.00000000e+00, 4.18337603e-04, 1.09170671e-05,\n",
       "       0.00000000e+00, 1.47009828e-03, 5.93605003e-03, 9.98327801e-04,\n",
       "       1.23187720e-07, 3.01690567e-05, 1.86919921e-05, 8.66004024e-03,\n",
       "       1.42604905e-05, 7.73198397e-03, 2.17578273e-07, 0.00000000e+00,\n",
       "       0.00000000e+00, 7.53197950e-06])"
      ]
     },
     "execution_count": 19,
     "metadata": {},
     "output_type": "execute_result"
    }
   ],
   "source": [
    "feature_importances"
   ]
  },
  {
   "cell_type": "code",
   "execution_count": 20,
   "id": "db3d255a-bd11-4980-afa5-77f1f452b2c3",
   "metadata": {},
   "outputs": [],
   "source": [
    "mean_importance = feature_importances.mean()"
   ]
  },
  {
   "cell_type": "code",
   "execution_count": 21,
   "id": "7ac8ddb5-ae18-40ea-9d83-b283b0c787a0",
   "metadata": {},
   "outputs": [
    {
     "data": {
      "text/plain": [
       "0.012820512820512818"
      ]
     },
     "execution_count": 21,
     "metadata": {},
     "output_type": "execute_result"
    }
   ],
   "source": [
    "mean_importance"
   ]
  },
  {
   "cell_type": "code",
   "execution_count": 22,
   "id": "8a9368cf",
   "metadata": {},
   "outputs": [
    {
     "data": {
      "text/plain": [
       "[0, 5, 13, 16, 37, 40]"
      ]
     },
     "execution_count": 22,
     "metadata": {},
     "output_type": "execute_result"
    }
   ],
   "source": [
    "selected_features=[]\n",
    "for i in range(len(feature_importances)):\n",
    "    if(feature_importances[i]>mean_importance):\n",
    "        selected_features.append(i)\n",
    "selected_features"
   ]
  },
  {
   "cell_type": "code",
   "execution_count": 23,
   "id": "a301773c-dc2c-43a9-8596-9a700b121d0c",
   "metadata": {},
   "outputs": [],
   "source": [
    "#selected_features = [feature for feature, importance in enumerate(feature_importances) if importance >= mean_importance]"
   ]
  },
  {
   "cell_type": "code",
   "execution_count": 24,
   "id": "9a4827d4-476c-444c-ad4a-d6c36fad9c78",
   "metadata": {},
   "outputs": [],
   "source": [
    "#selected_features"
   ]
  },
  {
   "cell_type": "code",
   "execution_count": 25,
   "id": "4bfaf413-994d-4408-9a89-f4007d4e92a6",
   "metadata": {},
   "outputs": [
    {
     "data": {
      "text/plain": [
       "[' Destination Port',\n",
       " ' Total Length of Bwd Packets',\n",
       " ' Bwd Packet Length Std',\n",
       " ' Flow IAT Mean',\n",
       " ' Bwd Packets/s',\n",
       " ' Packet Length Mean']"
      ]
     },
     "execution_count": 25,
     "metadata": {},
     "output_type": "execute_result"
    }
   ],
   "source": [
    "lst=[]\n",
    "for i in selected_features:\n",
    "    lst.append(data.columns[i])\n",
    "lst"
   ]
  },
  {
   "cell_type": "code",
   "execution_count": 26,
   "id": "6cd029b2-0235-409f-8cbf-45fd8bfeecf2",
   "metadata": {},
   "outputs": [
    {
     "data": {
      "text/html": [
       "<div>\n",
       "<style scoped>\n",
       "    .dataframe tbody tr th:only-of-type {\n",
       "        vertical-align: middle;\n",
       "    }\n",
       "\n",
       "    .dataframe tbody tr th {\n",
       "        vertical-align: top;\n",
       "    }\n",
       "\n",
       "    .dataframe thead th {\n",
       "        text-align: right;\n",
       "    }\n",
       "</style>\n",
       "<table border=\"1\" class=\"dataframe\">\n",
       "  <thead>\n",
       "    <tr style=\"text-align: right;\">\n",
       "      <th></th>\n",
       "      <th>Destination Port</th>\n",
       "      <th>Bwd Packet Length Std</th>\n",
       "      <th>Flow IAT Mean</th>\n",
       "      <th>Bwd Packets/s</th>\n",
       "      <th>Packet Length Mean</th>\n",
       "      <th>Subflow Bwd Bytes</th>\n",
       "      <th>Label</th>\n",
       "    </tr>\n",
       "  </thead>\n",
       "  <tbody>\n",
       "    <tr>\n",
       "      <th>0</th>\n",
       "      <td>80</td>\n",
       "      <td>0.000000</td>\n",
       "      <td>38308.000000</td>\n",
       "      <td>26.104208</td>\n",
       "      <td>6.000000</td>\n",
       "      <td>6</td>\n",
       "      <td>BENIGN</td>\n",
       "    </tr>\n",
       "    <tr>\n",
       "      <th>1</th>\n",
       "      <td>389</td>\n",
       "      <td>89.278777</td>\n",
       "      <td>31.933333</td>\n",
       "      <td>10438.413360</td>\n",
       "      <td>29.294118</td>\n",
       "      <td>326</td>\n",
       "      <td>BENIGN</td>\n",
       "    </tr>\n",
       "    <tr>\n",
       "      <th>2</th>\n",
       "      <td>88</td>\n",
       "      <td>813.326503</td>\n",
       "      <td>73.000000</td>\n",
       "      <td>5479.452055</td>\n",
       "      <td>370.588235</td>\n",
       "      <td>3150</td>\n",
       "      <td>BENIGN</td>\n",
       "    </tr>\n",
       "    <tr>\n",
       "      <th>3</th>\n",
       "      <td>389</td>\n",
       "      <td>977.480342</td>\n",
       "      <td>543.071429</td>\n",
       "      <td>789.162173</td>\n",
       "      <td>337.066667</td>\n",
       "      <td>6660</td>\n",
       "      <td>BENIGN</td>\n",
       "    </tr>\n",
       "    <tr>\n",
       "      <th>4</th>\n",
       "      <td>88</td>\n",
       "      <td>813.842901</td>\n",
       "      <td>78.000000</td>\n",
       "      <td>5494.505495</td>\n",
       "      <td>393.875000</td>\n",
       "      <td>3152</td>\n",
       "      <td>BENIGN</td>\n",
       "    </tr>\n",
       "    <tr>\n",
       "      <th>...</th>\n",
       "      <td>...</td>\n",
       "      <td>...</td>\n",
       "      <td>...</td>\n",
       "      <td>...</td>\n",
       "      <td>...</td>\n",
       "      <td>...</td>\n",
       "      <td>...</td>\n",
       "    </tr>\n",
       "    <tr>\n",
       "      <th>692698</th>\n",
       "      <td>53</td>\n",
       "      <td>0.000000</td>\n",
       "      <td>6443.000000</td>\n",
       "      <td>62.082881</td>\n",
       "      <td>41.714286</td>\n",
       "      <td>152</td>\n",
       "      <td>BENIGN</td>\n",
       "    </tr>\n",
       "    <tr>\n",
       "      <th>692699</th>\n",
       "      <td>53</td>\n",
       "      <td>0.000000</td>\n",
       "      <td>108.000000</td>\n",
       "      <td>6172.839506</td>\n",
       "      <td>97.600000</td>\n",
       "      <td>362</td>\n",
       "      <td>BENIGN</td>\n",
       "    </tr>\n",
       "    <tr>\n",
       "      <th>692700</th>\n",
       "      <td>58030</td>\n",
       "      <td>0.000000</td>\n",
       "      <td>41.000000</td>\n",
       "      <td>12195.121950</td>\n",
       "      <td>17.000000</td>\n",
       "      <td>6</td>\n",
       "      <td>BENIGN</td>\n",
       "    </tr>\n",
       "    <tr>\n",
       "      <th>692701</th>\n",
       "      <td>53</td>\n",
       "      <td>0.000000</td>\n",
       "      <td>149805.000000</td>\n",
       "      <td>1.907241</td>\n",
       "      <td>53.333333</td>\n",
       "      <td>256</td>\n",
       "      <td>BENIGN</td>\n",
       "    </tr>\n",
       "    <tr>\n",
       "      <th>692702</th>\n",
       "      <td>53</td>\n",
       "      <td>0.000000</td>\n",
       "      <td>18987.800000</td>\n",
       "      <td>21.066158</td>\n",
       "      <td>65.857143</td>\n",
       "      <td>226</td>\n",
       "      <td>BENIGN</td>\n",
       "    </tr>\n",
       "  </tbody>\n",
       "</table>\n",
       "<p>692692 rows × 7 columns</p>\n",
       "</div>"
      ],
      "text/plain": [
       "         Destination Port   Bwd Packet Length Std   Flow IAT Mean  \\\n",
       "0                      80                0.000000    38308.000000   \n",
       "1                     389               89.278777       31.933333   \n",
       "2                      88              813.326503       73.000000   \n",
       "3                     389              977.480342      543.071429   \n",
       "4                      88              813.842901       78.000000   \n",
       "...                   ...                     ...             ...   \n",
       "692698                 53                0.000000     6443.000000   \n",
       "692699                 53                0.000000      108.000000   \n",
       "692700              58030                0.000000       41.000000   \n",
       "692701                 53                0.000000   149805.000000   \n",
       "692702                 53                0.000000    18987.800000   \n",
       "\n",
       "         Bwd Packets/s   Packet Length Mean   Subflow Bwd Bytes   Label  \n",
       "0            26.104208             6.000000                   6  BENIGN  \n",
       "1         10438.413360            29.294118                 326  BENIGN  \n",
       "2          5479.452055           370.588235                3150  BENIGN  \n",
       "3           789.162173           337.066667                6660  BENIGN  \n",
       "4          5494.505495           393.875000                3152  BENIGN  \n",
       "...                ...                  ...                 ...     ...  \n",
       "692698       62.082881            41.714286                 152  BENIGN  \n",
       "692699     6172.839506            97.600000                 362  BENIGN  \n",
       "692700    12195.121950            17.000000                   6  BENIGN  \n",
       "692701        1.907241            53.333333                 256  BENIGN  \n",
       "692702       21.066158            65.857143                 226  BENIGN  \n",
       "\n",
       "[692692 rows x 7 columns]"
      ]
     },
     "execution_count": 26,
     "metadata": {},
     "output_type": "execute_result"
    }
   ],
   "source": [
    "# Load the dataset\n",
    "\n",
    "\n",
    "# Define the indices to keep\n",
    "indices_to_keep = [0, 13, 16, 37, 40, 65,78]\n",
    "\n",
    "# Select columns based on indices to keep\n",
    "selected_columns = data.columns[indices_to_keep]\n",
    "\n",
    "# Create a new dataframe with only selected columns\n",
    "new_df = data[selected_columns]\n",
    "\n",
    "# Save the new dataframe\n",
    "new_df"
   ]
  },
  {
   "cell_type": "code",
   "execution_count": 27,
   "id": "2bf5c6f5-6686-4d31-b019-03d0eef95220",
   "metadata": {},
   "outputs": [
    {
     "data": {
      "text/html": [
       "<div>\n",
       "<style scoped>\n",
       "    .dataframe tbody tr th:only-of-type {\n",
       "        vertical-align: middle;\n",
       "    }\n",
       "\n",
       "    .dataframe tbody tr th {\n",
       "        vertical-align: top;\n",
       "    }\n",
       "\n",
       "    .dataframe thead th {\n",
       "        text-align: right;\n",
       "    }\n",
       "</style>\n",
       "<table border=\"1\" class=\"dataframe\">\n",
       "  <thead>\n",
       "    <tr style=\"text-align: right;\">\n",
       "      <th></th>\n",
       "      <th>Destination Port</th>\n",
       "      <th>Bwd Packet Length Std</th>\n",
       "      <th>Flow IAT Mean</th>\n",
       "      <th>Bwd Packets/s</th>\n",
       "      <th>Packet Length Mean</th>\n",
       "      <th>Subflow Bwd Bytes</th>\n",
       "      <th>Label</th>\n",
       "    </tr>\n",
       "  </thead>\n",
       "  <tbody>\n",
       "    <tr>\n",
       "      <th>0</th>\n",
       "      <td>80</td>\n",
       "      <td>0.000000</td>\n",
       "      <td>38308.000000</td>\n",
       "      <td>26.104208</td>\n",
       "      <td>6.000000</td>\n",
       "      <td>6</td>\n",
       "      <td>BENIGN</td>\n",
       "    </tr>\n",
       "    <tr>\n",
       "      <th>1</th>\n",
       "      <td>389</td>\n",
       "      <td>89.278777</td>\n",
       "      <td>31.933333</td>\n",
       "      <td>10438.413360</td>\n",
       "      <td>29.294118</td>\n",
       "      <td>326</td>\n",
       "      <td>BENIGN</td>\n",
       "    </tr>\n",
       "    <tr>\n",
       "      <th>2</th>\n",
       "      <td>88</td>\n",
       "      <td>813.326503</td>\n",
       "      <td>73.000000</td>\n",
       "      <td>5479.452055</td>\n",
       "      <td>370.588235</td>\n",
       "      <td>3150</td>\n",
       "      <td>BENIGN</td>\n",
       "    </tr>\n",
       "    <tr>\n",
       "      <th>3</th>\n",
       "      <td>389</td>\n",
       "      <td>977.480342</td>\n",
       "      <td>543.071429</td>\n",
       "      <td>789.162173</td>\n",
       "      <td>337.066667</td>\n",
       "      <td>6660</td>\n",
       "      <td>BENIGN</td>\n",
       "    </tr>\n",
       "    <tr>\n",
       "      <th>4</th>\n",
       "      <td>88</td>\n",
       "      <td>813.842901</td>\n",
       "      <td>78.000000</td>\n",
       "      <td>5494.505495</td>\n",
       "      <td>393.875000</td>\n",
       "      <td>3152</td>\n",
       "      <td>BENIGN</td>\n",
       "    </tr>\n",
       "    <tr>\n",
       "      <th>...</th>\n",
       "      <td>...</td>\n",
       "      <td>...</td>\n",
       "      <td>...</td>\n",
       "      <td>...</td>\n",
       "      <td>...</td>\n",
       "      <td>...</td>\n",
       "      <td>...</td>\n",
       "    </tr>\n",
       "    <tr>\n",
       "      <th>692698</th>\n",
       "      <td>53</td>\n",
       "      <td>0.000000</td>\n",
       "      <td>6443.000000</td>\n",
       "      <td>62.082881</td>\n",
       "      <td>41.714286</td>\n",
       "      <td>152</td>\n",
       "      <td>BENIGN</td>\n",
       "    </tr>\n",
       "    <tr>\n",
       "      <th>692699</th>\n",
       "      <td>53</td>\n",
       "      <td>0.000000</td>\n",
       "      <td>108.000000</td>\n",
       "      <td>6172.839506</td>\n",
       "      <td>97.600000</td>\n",
       "      <td>362</td>\n",
       "      <td>BENIGN</td>\n",
       "    </tr>\n",
       "    <tr>\n",
       "      <th>692700</th>\n",
       "      <td>58030</td>\n",
       "      <td>0.000000</td>\n",
       "      <td>41.000000</td>\n",
       "      <td>12195.121950</td>\n",
       "      <td>17.000000</td>\n",
       "      <td>6</td>\n",
       "      <td>BENIGN</td>\n",
       "    </tr>\n",
       "    <tr>\n",
       "      <th>692701</th>\n",
       "      <td>53</td>\n",
       "      <td>0.000000</td>\n",
       "      <td>149805.000000</td>\n",
       "      <td>1.907241</td>\n",
       "      <td>53.333333</td>\n",
       "      <td>256</td>\n",
       "      <td>BENIGN</td>\n",
       "    </tr>\n",
       "    <tr>\n",
       "      <th>692702</th>\n",
       "      <td>53</td>\n",
       "      <td>0.000000</td>\n",
       "      <td>18987.800000</td>\n",
       "      <td>21.066158</td>\n",
       "      <td>65.857143</td>\n",
       "      <td>226</td>\n",
       "      <td>BENIGN</td>\n",
       "    </tr>\n",
       "  </tbody>\n",
       "</table>\n",
       "<p>692692 rows × 7 columns</p>\n",
       "</div>"
      ],
      "text/plain": [
       "         Destination Port   Bwd Packet Length Std   Flow IAT Mean  \\\n",
       "0                      80                0.000000    38308.000000   \n",
       "1                     389               89.278777       31.933333   \n",
       "2                      88              813.326503       73.000000   \n",
       "3                     389              977.480342      543.071429   \n",
       "4                      88              813.842901       78.000000   \n",
       "...                   ...                     ...             ...   \n",
       "692698                 53                0.000000     6443.000000   \n",
       "692699                 53                0.000000      108.000000   \n",
       "692700              58030                0.000000       41.000000   \n",
       "692701                 53                0.000000   149805.000000   \n",
       "692702                 53                0.000000    18987.800000   \n",
       "\n",
       "         Bwd Packets/s   Packet Length Mean   Subflow Bwd Bytes   Label  \n",
       "0            26.104208             6.000000                   6  BENIGN  \n",
       "1         10438.413360            29.294118                 326  BENIGN  \n",
       "2          5479.452055           370.588235                3150  BENIGN  \n",
       "3           789.162173           337.066667                6660  BENIGN  \n",
       "4          5494.505495           393.875000                3152  BENIGN  \n",
       "...                ...                  ...                 ...     ...  \n",
       "692698       62.082881            41.714286                 152  BENIGN  \n",
       "692699     6172.839506            97.600000                 362  BENIGN  \n",
       "692700    12195.121950            17.000000                   6  BENIGN  \n",
       "692701        1.907241            53.333333                 256  BENIGN  \n",
       "692702       21.066158            65.857143                 226  BENIGN  \n",
       "\n",
       "[692692 rows x 7 columns]"
      ]
     },
     "execution_count": 27,
     "metadata": {},
     "output_type": "execute_result"
    }
   ],
   "source": [
    "new_df"
   ]
  },
  {
   "cell_type": "code",
   "execution_count": 28,
   "id": "2a61dac0-f95a-4b91-8edf-719097f7b1f7",
   "metadata": {},
   "outputs": [],
   "source": [
    "import pandas as pd\n",
    "#import h2o4gpu as sklearn\n",
    "from sklearn.model_selection import train_test_split\n",
    "from sklearn.preprocessing import LabelEncoder, StandardScaler\n",
    "from sklearn.neural_network import MLPClassifier\n",
    "from sklearn.model_selection import GridSearchCV\n",
    "from sklearn.metrics import accuracy_score, precision_score, recall_score, f1_score"
   ]
  },
  {
   "cell_type": "code",
   "execution_count": 29,
   "id": "aee8f9bf-9042-4617-b906-1eebaca5ca57",
   "metadata": {},
   "outputs": [],
   "source": [
    "X = new_df.drop(columns=[' Label'])\n",
    "y = new_df[' Label']"
   ]
  },
  {
   "cell_type": "code",
   "execution_count": 30,
   "id": "fa77df15-01f9-4ca4-bac8-3dafb33cb1f2",
   "metadata": {},
   "outputs": [],
   "source": [
    "label_encoder = LabelEncoder()\n",
    "y = label_encoder.fit_transform(y)"
   ]
  },
  {
   "cell_type": "code",
   "execution_count": 31,
   "id": "a9ed9621-ac0d-4135-bfb3-133ceaa4b2d7",
   "metadata": {},
   "outputs": [
    {
     "data": {
      "text/plain": [
       "array([[-0.35650577, -0.59980987, -0.44041297, -0.13022541, -0.73754971,\n",
       "        -0.00753027],\n",
       "       [-0.33685868, -0.51850165, -0.44725289,  0.20653007, -0.6744381 ,\n",
       "        -0.00738746],\n",
       "       [-0.3559971 ,  0.14090513, -0.44724555,  0.04614707,  0.25024258,\n",
       "        -0.00612718],\n",
       "       ...,\n",
       "       [ 3.32811763, -0.59980987, -0.44725127,  0.26334564, -0.707747  ,\n",
       "        -0.00753027],\n",
       "       [-0.3582225 , -0.59980987, -0.42048847, -0.13100799, -0.60930777,\n",
       "        -0.0074187 ],\n",
       "       [-0.3582225 , -0.59980987, -0.44386548, -0.13038835, -0.57537655,\n",
       "        -0.00743209]])"
      ]
     },
     "execution_count": 31,
     "metadata": {},
     "output_type": "execute_result"
    }
   ],
   "source": [
    "scaler = StandardScaler()\n",
    "X = scaler.fit_transform(X)\n",
    "X"
   ]
  },
  {
   "cell_type": "code",
   "execution_count": 32,
   "id": "429feebe-0043-466a-a6bb-8a2cee492039",
   "metadata": {},
   "outputs": [],
   "source": [
    "X_train, X_test, y_train, y_test = train_test_split(X, y, test_size=0.2, random_state=42)"
   ]
  },
  {
   "cell_type": "code",
   "execution_count": 33,
   "id": "86074ea4-3a8a-428b-84ff-3fabe4e376c8",
   "metadata": {},
   "outputs": [],
   "source": [
    "# Define MLP classifier\n",
    "mlp = MLPClassifier()"
   ]
  },
  {
   "cell_type": "code",
   "execution_count": 37,
   "id": "c316dcc0-9c67-4d45-b063-217e8409f704",
   "metadata": {},
   "outputs": [],
   "source": [
    "parameter_space = {\n",
    "    'hidden_layer_sizes': [50,100,200],\n",
    "    'activation': ['relu','tanh', 'sigmoid'],\n",
    "    'solver': ['adam'],\n",
    "    'alpha': [0.0001, 0.001, 0.01],\n",
    "    'learning_rate': ['constant', 'adaptive'],\n",
    "}"
   ]
  },
  {
   "cell_type": "code",
   "execution_count": 38,
   "id": "b6713bc1-058a-4fd8-ae36-56e33b99333f",
   "metadata": {},
   "outputs": [
    {
     "name": "stdout",
     "output_type": "stream",
     "text": [
      "Fitting 2 folds for each of 54 candidates, totalling 108 fits\n"
     ]
    },
    {
     "name": "stderr",
     "output_type": "stream",
     "text": [
      "C:\\Users\\Jannesh_OP\\anaconda3\\Lib\\site-packages\\sklearn\\model_selection\\_validation.py:425: FitFailedWarning: \n",
      "36 fits failed out of a total of 108.\n",
      "The score on these train-test partitions for these parameters will be set to nan.\n",
      "If these failures are not expected, you can try to debug them by setting error_score='raise'.\n",
      "\n",
      "Below are more details about the failures:\n",
      "--------------------------------------------------------------------------------\n",
      "36 fits failed with the following error:\n",
      "Traceback (most recent call last):\n",
      "  File \"C:\\Users\\Jannesh_OP\\anaconda3\\Lib\\site-packages\\sklearn\\model_selection\\_validation.py\", line 732, in _fit_and_score\n",
      "    estimator.fit(X_train, y_train, **fit_params)\n",
      "  File \"C:\\Users\\Jannesh_OP\\anaconda3\\Lib\\site-packages\\sklearn\\base.py\", line 1144, in wrapper\n",
      "    estimator._validate_params()\n",
      "  File \"C:\\Users\\Jannesh_OP\\anaconda3\\Lib\\site-packages\\sklearn\\base.py\", line 637, in _validate_params\n",
      "    validate_parameter_constraints(\n",
      "  File \"C:\\Users\\Jannesh_OP\\anaconda3\\Lib\\site-packages\\sklearn\\utils\\_param_validation.py\", line 95, in validate_parameter_constraints\n",
      "    raise InvalidParameterError(\n",
      "sklearn.utils._param_validation.InvalidParameterError: The 'activation' parameter of MLPClassifier must be a str among {'tanh', 'relu', 'identity', 'logistic'}. Got 'sigmoid' instead.\n",
      "\n",
      "  warnings.warn(some_fits_failed_message, FitFailedWarning)\n",
      "C:\\Users\\Jannesh_OP\\anaconda3\\Lib\\site-packages\\sklearn\\model_selection\\_search.py:976: UserWarning: One or more of the test scores are non-finite: [0.98259506 0.98062269 0.98483993 0.98275567 0.98563213 0.98322845\n",
      " 0.98227746 0.98247235 0.98434909 0.98384201 0.97443305 0.97950205\n",
      " 0.96845095 0.97930174 0.97459547 0.97522885 0.9754833  0.97415155\n",
      " 0.9799568  0.97246609 0.9775784  0.97934865 0.97562225 0.97987199\n",
      " 0.9789264  0.97821541 0.97458464 0.98254273 0.9781324  0.98132285\n",
      " 0.96743679 0.97348746 0.96701453 0.96843832 0.97466043 0.96774176\n",
      "        nan        nan        nan        nan        nan        nan\n",
      "        nan        nan        nan        nan        nan        nan\n",
      "        nan        nan        nan        nan        nan        nan]\n",
      "  warnings.warn(\n",
      "C:\\Users\\Jannesh_OP\\anaconda3\\Lib\\site-packages\\sklearn\\neural_network\\_multilayer_perceptron.py:691: ConvergenceWarning: Stochastic Optimizer: Maximum iterations (200) reached and the optimization hasn't converged yet.\n",
      "  warnings.warn(\n"
     ]
    },
    {
     "data": {
      "text/html": [
       "<style>#sk-container-id-3 {color: black;}#sk-container-id-3 pre{padding: 0;}#sk-container-id-3 div.sk-toggleable {background-color: white;}#sk-container-id-3 label.sk-toggleable__label {cursor: pointer;display: block;width: 100%;margin-bottom: 0;padding: 0.3em;box-sizing: border-box;text-align: center;}#sk-container-id-3 label.sk-toggleable__label-arrow:before {content: \"▸\";float: left;margin-right: 0.25em;color: #696969;}#sk-container-id-3 label.sk-toggleable__label-arrow:hover:before {color: black;}#sk-container-id-3 div.sk-estimator:hover label.sk-toggleable__label-arrow:before {color: black;}#sk-container-id-3 div.sk-toggleable__content {max-height: 0;max-width: 0;overflow: hidden;text-align: left;background-color: #f0f8ff;}#sk-container-id-3 div.sk-toggleable__content pre {margin: 0.2em;color: black;border-radius: 0.25em;background-color: #f0f8ff;}#sk-container-id-3 input.sk-toggleable__control:checked~div.sk-toggleable__content {max-height: 200px;max-width: 100%;overflow: auto;}#sk-container-id-3 input.sk-toggleable__control:checked~label.sk-toggleable__label-arrow:before {content: \"▾\";}#sk-container-id-3 div.sk-estimator input.sk-toggleable__control:checked~label.sk-toggleable__label {background-color: #d4ebff;}#sk-container-id-3 div.sk-label input.sk-toggleable__control:checked~label.sk-toggleable__label {background-color: #d4ebff;}#sk-container-id-3 input.sk-hidden--visually {border: 0;clip: rect(1px 1px 1px 1px);clip: rect(1px, 1px, 1px, 1px);height: 1px;margin: -1px;overflow: hidden;padding: 0;position: absolute;width: 1px;}#sk-container-id-3 div.sk-estimator {font-family: monospace;background-color: #f0f8ff;border: 1px dotted black;border-radius: 0.25em;box-sizing: border-box;margin-bottom: 0.5em;}#sk-container-id-3 div.sk-estimator:hover {background-color: #d4ebff;}#sk-container-id-3 div.sk-parallel-item::after {content: \"\";width: 100%;border-bottom: 1px solid gray;flex-grow: 1;}#sk-container-id-3 div.sk-label:hover label.sk-toggleable__label {background-color: #d4ebff;}#sk-container-id-3 div.sk-serial::before {content: \"\";position: absolute;border-left: 1px solid gray;box-sizing: border-box;top: 0;bottom: 0;left: 50%;z-index: 0;}#sk-container-id-3 div.sk-serial {display: flex;flex-direction: column;align-items: center;background-color: white;padding-right: 0.2em;padding-left: 0.2em;position: relative;}#sk-container-id-3 div.sk-item {position: relative;z-index: 1;}#sk-container-id-3 div.sk-parallel {display: flex;align-items: stretch;justify-content: center;background-color: white;position: relative;}#sk-container-id-3 div.sk-item::before, #sk-container-id-3 div.sk-parallel-item::before {content: \"\";position: absolute;border-left: 1px solid gray;box-sizing: border-box;top: 0;bottom: 0;left: 50%;z-index: -1;}#sk-container-id-3 div.sk-parallel-item {display: flex;flex-direction: column;z-index: 1;position: relative;background-color: white;}#sk-container-id-3 div.sk-parallel-item:first-child::after {align-self: flex-end;width: 50%;}#sk-container-id-3 div.sk-parallel-item:last-child::after {align-self: flex-start;width: 50%;}#sk-container-id-3 div.sk-parallel-item:only-child::after {width: 0;}#sk-container-id-3 div.sk-dashed-wrapped {border: 1px dashed gray;margin: 0 0.4em 0.5em 0.4em;box-sizing: border-box;padding-bottom: 0.4em;background-color: white;}#sk-container-id-3 div.sk-label label {font-family: monospace;font-weight: bold;display: inline-block;line-height: 1.2em;}#sk-container-id-3 div.sk-label-container {text-align: center;}#sk-container-id-3 div.sk-container {/* jupyter's `normalize.less` sets `[hidden] { display: none; }` but bootstrap.min.css set `[hidden] { display: none !important; }` so we also need the `!important` here to be able to override the default hidden behavior on the sphinx rendered scikit-learn.org. See: https://github.com/scikit-learn/scikit-learn/issues/21755 */display: inline-block !important;position: relative;}#sk-container-id-3 div.sk-text-repr-fallback {display: none;}</style><div id=\"sk-container-id-3\" class=\"sk-top-container\"><div class=\"sk-text-repr-fallback\"><pre>GridSearchCV(cv=2, estimator=MLPClassifier(), n_jobs=-1,\n",
       "             param_grid={&#x27;activation&#x27;: [&#x27;relu&#x27;, &#x27;tanh&#x27;, &#x27;sigmoid&#x27;],\n",
       "                         &#x27;alpha&#x27;: [0.0001, 0.001, 0.01],\n",
       "                         &#x27;hidden_layer_sizes&#x27;: [50, 100, 200],\n",
       "                         &#x27;learning_rate&#x27;: [&#x27;constant&#x27;, &#x27;adaptive&#x27;],\n",
       "                         &#x27;solver&#x27;: [&#x27;adam&#x27;]},\n",
       "             verbose=10)</pre><b>In a Jupyter environment, please rerun this cell to show the HTML representation or trust the notebook. <br />On GitHub, the HTML representation is unable to render, please try loading this page with nbviewer.org.</b></div><div class=\"sk-container\" hidden><div class=\"sk-item sk-dashed-wrapped\"><div class=\"sk-label-container\"><div class=\"sk-label sk-toggleable\"><input class=\"sk-toggleable__control sk-hidden--visually\" id=\"sk-estimator-id-5\" type=\"checkbox\" ><label for=\"sk-estimator-id-5\" class=\"sk-toggleable__label sk-toggleable__label-arrow\">GridSearchCV</label><div class=\"sk-toggleable__content\"><pre>GridSearchCV(cv=2, estimator=MLPClassifier(), n_jobs=-1,\n",
       "             param_grid={&#x27;activation&#x27;: [&#x27;relu&#x27;, &#x27;tanh&#x27;, &#x27;sigmoid&#x27;],\n",
       "                         &#x27;alpha&#x27;: [0.0001, 0.001, 0.01],\n",
       "                         &#x27;hidden_layer_sizes&#x27;: [50, 100, 200],\n",
       "                         &#x27;learning_rate&#x27;: [&#x27;constant&#x27;, &#x27;adaptive&#x27;],\n",
       "                         &#x27;solver&#x27;: [&#x27;adam&#x27;]},\n",
       "             verbose=10)</pre></div></div></div><div class=\"sk-parallel\"><div class=\"sk-parallel-item\"><div class=\"sk-item\"><div class=\"sk-label-container\"><div class=\"sk-label sk-toggleable\"><input class=\"sk-toggleable__control sk-hidden--visually\" id=\"sk-estimator-id-6\" type=\"checkbox\" ><label for=\"sk-estimator-id-6\" class=\"sk-toggleable__label sk-toggleable__label-arrow\">estimator: MLPClassifier</label><div class=\"sk-toggleable__content\"><pre>MLPClassifier()</pre></div></div></div><div class=\"sk-serial\"><div class=\"sk-item\"><div class=\"sk-estimator sk-toggleable\"><input class=\"sk-toggleable__control sk-hidden--visually\" id=\"sk-estimator-id-7\" type=\"checkbox\" ><label for=\"sk-estimator-id-7\" class=\"sk-toggleable__label sk-toggleable__label-arrow\">MLPClassifier</label><div class=\"sk-toggleable__content\"><pre>MLPClassifier()</pre></div></div></div></div></div></div></div></div></div></div>"
      ],
      "text/plain": [
       "GridSearchCV(cv=2, estimator=MLPClassifier(), n_jobs=-1,\n",
       "             param_grid={'activation': ['relu', 'tanh', 'sigmoid'],\n",
       "                         'alpha': [0.0001, 0.001, 0.01],\n",
       "                         'hidden_layer_sizes': [50, 100, 200],\n",
       "                         'learning_rate': ['constant', 'adaptive'],\n",
       "                         'solver': ['adam']},\n",
       "             verbose=10)"
      ]
     },
     "execution_count": 38,
     "metadata": {},
     "output_type": "execute_result"
    }
   ],
   "source": [
    "# Perform grid search with adam solver\n",
    "grid_adam = GridSearchCV(mlp, parameter_space,cv=2, verbose=10,n_jobs=-1)\n",
    "grid_adam.fit(X_train, y_train)"
   ]
  },
  {
   "cell_type": "code",
   "execution_count": 48,
   "id": "8b93c913-46c7-4043-99c2-641f0b2a3ded",
   "metadata": {},
   "outputs": [
    {
     "name": "stdout",
     "output_type": "stream",
     "text": [
      "Best parameters found:  {'activation': 'relu', 'alpha': 0.0001, 'hidden_layer_sizes': 200, 'learning_rate': 'constant', 'solver': 'adam'}\n",
      "Best score:  0.985632126991187\n"
     ]
    }
   ],
   "source": [
    "print(\"Best parameters found: \", grid_adam.best_params_)\n",
    "print(\"Best score: \", grid_adam.best_score_)\n"
   ]
  },
  {
   "cell_type": "code",
   "execution_count": 49,
   "id": "29dd64db-bc1e-4e9f-96f0-cf7511d9604c",
   "metadata": {},
   "outputs": [],
   "source": [
    "adam_model = grid_adam.best_estimator_"
   ]
  },
  {
   "cell_type": "code",
   "execution_count": 50,
   "id": "004b4843-ee78-4c9a-86f3-9aa28560f0ee",
   "metadata": {},
   "outputs": [
    {
     "name": "stdout",
     "output_type": "stream",
     "text": [
      "ADAM Test Accuracy  :  98.70361414475346\n",
      "ADAM Test Precision :  94.1727198564275\n",
      "ADAM Test Recall    :  93.02866934624976\n",
      "ADAM Test F1 Score  :  93.58876645066158\n"
     ]
    }
   ],
   "source": [
    "y_pred_adam = adam_model.predict(X_test)\n",
    "accuracy_adam = accuracy_score(y_test, y_pred_adam)\n",
    "precision_adam = precision_score(y_test, y_pred_adam, average='macro')\n",
    "recall_adam = recall_score(y_test, y_pred_adam, average='macro')\n",
    "f1_adam = f1_score(y_test, y_pred_adam, average='macro')\n",
    "\n",
    "print(\"ADAM Test Accuracy  : \", accuracy_adam*100)\n",
    "print(\"ADAM Test Precision : \", precision_adam*100)\n",
    "print(\"ADAM Test Recall    : \", recall_adam*100)\n",
    "print(\"ADAM Test F1 Score  : \", f1_adam*100)"
   ]
  },
  {
   "cell_type": "code",
   "execution_count": 51,
   "id": "82d9d2ef-7bab-4406-9a2c-468ee73a11e3",
   "metadata": {},
   "outputs": [],
   "source": [
    "parameter_grid = {\n",
    "    'hidden_layer_sizes': [(50,),(100,)],\n",
    "    'activation': ['relu'],\n",
    "    'solver': ['lbfgs'],\n",
    "    'alpha': [0.0001, 0.001, 0.01],\n",
    "    'learning_rate': ['constant', 'adaptive'],\n",
    "}"
   ]
  },
  {
   "cell_type": "code",
   "execution_count": 52,
   "id": "6ab87381",
   "metadata": {},
   "outputs": [
    {
     "name": "stdout",
     "output_type": "stream",
     "text": [
      "Fitting 2 folds for each of 12 candidates, totalling 24 fits\n"
     ]
    },
    {
     "name": "stderr",
     "output_type": "stream",
     "text": [
      "C:\\Users\\Jannesh_OP\\anaconda3\\Lib\\site-packages\\sklearn\\neural_network\\_multilayer_perceptron.py:546: ConvergenceWarning: lbfgs failed to converge (status=1):\n",
      "STOP: TOTAL NO. of ITERATIONS REACHED LIMIT.\n",
      "\n",
      "Increase the number of iterations (max_iter) or scale the data as shown in:\n",
      "    https://scikit-learn.org/stable/modules/preprocessing.html\n",
      "  self.n_iter_ = _check_optimize_result(\"lbfgs\", opt_res, self.max_iter)\n"
     ]
    },
    {
     "data": {
      "text/html": [
       "<style>#sk-container-id-4 {color: black;}#sk-container-id-4 pre{padding: 0;}#sk-container-id-4 div.sk-toggleable {background-color: white;}#sk-container-id-4 label.sk-toggleable__label {cursor: pointer;display: block;width: 100%;margin-bottom: 0;padding: 0.3em;box-sizing: border-box;text-align: center;}#sk-container-id-4 label.sk-toggleable__label-arrow:before {content: \"▸\";float: left;margin-right: 0.25em;color: #696969;}#sk-container-id-4 label.sk-toggleable__label-arrow:hover:before {color: black;}#sk-container-id-4 div.sk-estimator:hover label.sk-toggleable__label-arrow:before {color: black;}#sk-container-id-4 div.sk-toggleable__content {max-height: 0;max-width: 0;overflow: hidden;text-align: left;background-color: #f0f8ff;}#sk-container-id-4 div.sk-toggleable__content pre {margin: 0.2em;color: black;border-radius: 0.25em;background-color: #f0f8ff;}#sk-container-id-4 input.sk-toggleable__control:checked~div.sk-toggleable__content {max-height: 200px;max-width: 100%;overflow: auto;}#sk-container-id-4 input.sk-toggleable__control:checked~label.sk-toggleable__label-arrow:before {content: \"▾\";}#sk-container-id-4 div.sk-estimator input.sk-toggleable__control:checked~label.sk-toggleable__label {background-color: #d4ebff;}#sk-container-id-4 div.sk-label input.sk-toggleable__control:checked~label.sk-toggleable__label {background-color: #d4ebff;}#sk-container-id-4 input.sk-hidden--visually {border: 0;clip: rect(1px 1px 1px 1px);clip: rect(1px, 1px, 1px, 1px);height: 1px;margin: -1px;overflow: hidden;padding: 0;position: absolute;width: 1px;}#sk-container-id-4 div.sk-estimator {font-family: monospace;background-color: #f0f8ff;border: 1px dotted black;border-radius: 0.25em;box-sizing: border-box;margin-bottom: 0.5em;}#sk-container-id-4 div.sk-estimator:hover {background-color: #d4ebff;}#sk-container-id-4 div.sk-parallel-item::after {content: \"\";width: 100%;border-bottom: 1px solid gray;flex-grow: 1;}#sk-container-id-4 div.sk-label:hover label.sk-toggleable__label {background-color: #d4ebff;}#sk-container-id-4 div.sk-serial::before {content: \"\";position: absolute;border-left: 1px solid gray;box-sizing: border-box;top: 0;bottom: 0;left: 50%;z-index: 0;}#sk-container-id-4 div.sk-serial {display: flex;flex-direction: column;align-items: center;background-color: white;padding-right: 0.2em;padding-left: 0.2em;position: relative;}#sk-container-id-4 div.sk-item {position: relative;z-index: 1;}#sk-container-id-4 div.sk-parallel {display: flex;align-items: stretch;justify-content: center;background-color: white;position: relative;}#sk-container-id-4 div.sk-item::before, #sk-container-id-4 div.sk-parallel-item::before {content: \"\";position: absolute;border-left: 1px solid gray;box-sizing: border-box;top: 0;bottom: 0;left: 50%;z-index: -1;}#sk-container-id-4 div.sk-parallel-item {display: flex;flex-direction: column;z-index: 1;position: relative;background-color: white;}#sk-container-id-4 div.sk-parallel-item:first-child::after {align-self: flex-end;width: 50%;}#sk-container-id-4 div.sk-parallel-item:last-child::after {align-self: flex-start;width: 50%;}#sk-container-id-4 div.sk-parallel-item:only-child::after {width: 0;}#sk-container-id-4 div.sk-dashed-wrapped {border: 1px dashed gray;margin: 0 0.4em 0.5em 0.4em;box-sizing: border-box;padding-bottom: 0.4em;background-color: white;}#sk-container-id-4 div.sk-label label {font-family: monospace;font-weight: bold;display: inline-block;line-height: 1.2em;}#sk-container-id-4 div.sk-label-container {text-align: center;}#sk-container-id-4 div.sk-container {/* jupyter's `normalize.less` sets `[hidden] { display: none; }` but bootstrap.min.css set `[hidden] { display: none !important; }` so we also need the `!important` here to be able to override the default hidden behavior on the sphinx rendered scikit-learn.org. See: https://github.com/scikit-learn/scikit-learn/issues/21755 */display: inline-block !important;position: relative;}#sk-container-id-4 div.sk-text-repr-fallback {display: none;}</style><div id=\"sk-container-id-4\" class=\"sk-top-container\"><div class=\"sk-text-repr-fallback\"><pre>GridSearchCV(cv=2, estimator=MLPClassifier(), n_jobs=-1,\n",
       "             param_grid={&#x27;activation&#x27;: [&#x27;relu&#x27;], &#x27;alpha&#x27;: [0.0001, 0.001, 0.01],\n",
       "                         &#x27;hidden_layer_sizes&#x27;: [(50,), (100,)],\n",
       "                         &#x27;learning_rate&#x27;: [&#x27;constant&#x27;, &#x27;adaptive&#x27;],\n",
       "                         &#x27;solver&#x27;: [&#x27;lbfgs&#x27;]},\n",
       "             verbose=10)</pre><b>In a Jupyter environment, please rerun this cell to show the HTML representation or trust the notebook. <br />On GitHub, the HTML representation is unable to render, please try loading this page with nbviewer.org.</b></div><div class=\"sk-container\" hidden><div class=\"sk-item sk-dashed-wrapped\"><div class=\"sk-label-container\"><div class=\"sk-label sk-toggleable\"><input class=\"sk-toggleable__control sk-hidden--visually\" id=\"sk-estimator-id-8\" type=\"checkbox\" ><label for=\"sk-estimator-id-8\" class=\"sk-toggleable__label sk-toggleable__label-arrow\">GridSearchCV</label><div class=\"sk-toggleable__content\"><pre>GridSearchCV(cv=2, estimator=MLPClassifier(), n_jobs=-1,\n",
       "             param_grid={&#x27;activation&#x27;: [&#x27;relu&#x27;], &#x27;alpha&#x27;: [0.0001, 0.001, 0.01],\n",
       "                         &#x27;hidden_layer_sizes&#x27;: [(50,), (100,)],\n",
       "                         &#x27;learning_rate&#x27;: [&#x27;constant&#x27;, &#x27;adaptive&#x27;],\n",
       "                         &#x27;solver&#x27;: [&#x27;lbfgs&#x27;]},\n",
       "             verbose=10)</pre></div></div></div><div class=\"sk-parallel\"><div class=\"sk-parallel-item\"><div class=\"sk-item\"><div class=\"sk-label-container\"><div class=\"sk-label sk-toggleable\"><input class=\"sk-toggleable__control sk-hidden--visually\" id=\"sk-estimator-id-9\" type=\"checkbox\" ><label for=\"sk-estimator-id-9\" class=\"sk-toggleable__label sk-toggleable__label-arrow\">estimator: MLPClassifier</label><div class=\"sk-toggleable__content\"><pre>MLPClassifier()</pre></div></div></div><div class=\"sk-serial\"><div class=\"sk-item\"><div class=\"sk-estimator sk-toggleable\"><input class=\"sk-toggleable__control sk-hidden--visually\" id=\"sk-estimator-id-10\" type=\"checkbox\" ><label for=\"sk-estimator-id-10\" class=\"sk-toggleable__label sk-toggleable__label-arrow\">MLPClassifier</label><div class=\"sk-toggleable__content\"><pre>MLPClassifier()</pre></div></div></div></div></div></div></div></div></div></div>"
      ],
      "text/plain": [
       "GridSearchCV(cv=2, estimator=MLPClassifier(), n_jobs=-1,\n",
       "             param_grid={'activation': ['relu'], 'alpha': [0.0001, 0.001, 0.01],\n",
       "                         'hidden_layer_sizes': [(50,), (100,)],\n",
       "                         'learning_rate': ['constant', 'adaptive'],\n",
       "                         'solver': ['lbfgs']},\n",
       "             verbose=10)"
      ]
     },
     "execution_count": 52,
     "metadata": {},
     "output_type": "execute_result"
    }
   ],
   "source": [
    "# Perform grid search with Limited-Memory BFGS solver\n",
    "grid_lbfgs = GridSearchCV(mlp, parameter_grid,cv=2, verbose=10,n_jobs=-1)\n",
    "grid_lbfgs.fit(X_train, y_train)"
   ]
  },
  {
   "cell_type": "code",
   "execution_count": 58,
   "id": "a01e934c",
   "metadata": {},
   "outputs": [
    {
     "name": "stdout",
     "output_type": "stream",
     "text": [
      "Best parameters found:  {'activation': 'relu', 'alpha': 0.01, 'hidden_layer_sizes': (50,), 'learning_rate': 'constant', 'solver': 'lbfgs'}\n",
      "Best score:  0.973348512038158\n"
     ]
    }
   ],
   "source": [
    "print(\"Best parameters found: \", grid_lbfgs.best_params_)\n",
    "print(\"Best score: \", grid_lbfgs.best_score_)"
   ]
  },
  {
   "cell_type": "code",
   "execution_count": 59,
   "id": "98e87a56",
   "metadata": {},
   "outputs": [],
   "source": [
    "lbfgs_model = grid_lbfgs.best_estimator_"
   ]
  },
  {
   "cell_type": "code",
   "execution_count": 60,
   "id": "6ead3b59",
   "metadata": {},
   "outputs": [
    {
     "name": "stdout",
     "output_type": "stream",
     "text": [
      "LBFGS Test Accuracy  :  97.11344819870217\n",
      "LBFGS Test Precision :  89.14146925113509\n",
      "LBFGS Test Recall    :  73.92707030189567\n",
      "LBFGS Test F1 Score  :  78.08444988719658\n"
     ]
    }
   ],
   "source": [
    "y_pred_lbfgs = lbfgs_model.predict(X_test)\n",
    "accuracy_lbfgs = accuracy_score(y_test, y_pred_lbfgs)\n",
    "precision_lbfgs = precision_score(y_test, y_pred_lbfgs, average='macro')\n",
    "recall_lbfgs = recall_score(y_test, y_pred_lbfgs, average='macro')\n",
    "f1_lbfgs= f1_score(y_test, y_pred_lbfgs, average='macro')\n",
    "\n",
    "print(\"LBFGS Test Accuracy  : \", accuracy_lbfgs*100)\n",
    "print(\"LBFGS Test Precision : \", precision_lbfgs*100)\n",
    "print(\"LBFGS Test Recall    : \", recall_lbfgs*100)\n",
    "print(\"LBFGS Test F1 Score  : \", f1_lbfgs*100)"
   ]
  },
  {
   "cell_type": "code",
   "execution_count": 61,
   "id": "892938ea",
   "metadata": {},
   "outputs": [],
   "source": [
    "parameter_box = {\n",
    "    'hidden_layer_sizes': [(50),(100)],\n",
    "    'activation': ['relu','tanh','sigmoid'],\n",
    "    'solver': ['sgd'],\n",
    "    'alpha': [0.0001, 0.001, 0.01],\n",
    "    'learning_rate': ['constant', 'adaptive'],\n",
    "}"
   ]
  },
  {
   "cell_type": "code",
   "execution_count": 62,
   "id": "879150a8",
   "metadata": {},
   "outputs": [
    {
     "name": "stdout",
     "output_type": "stream",
     "text": [
      "Fitting 2 folds for each of 36 candidates, totalling 72 fits\n"
     ]
    },
    {
     "name": "stderr",
     "output_type": "stream",
     "text": [
      "C:\\Users\\Jannesh_OP\\anaconda3\\Lib\\site-packages\\sklearn\\model_selection\\_validation.py:425: FitFailedWarning: \n",
      "24 fits failed out of a total of 72.\n",
      "The score on these train-test partitions for these parameters will be set to nan.\n",
      "If these failures are not expected, you can try to debug them by setting error_score='raise'.\n",
      "\n",
      "Below are more details about the failures:\n",
      "--------------------------------------------------------------------------------\n",
      "24 fits failed with the following error:\n",
      "Traceback (most recent call last):\n",
      "  File \"C:\\Users\\Jannesh_OP\\anaconda3\\Lib\\site-packages\\sklearn\\model_selection\\_validation.py\", line 732, in _fit_and_score\n",
      "    estimator.fit(X_train, y_train, **fit_params)\n",
      "  File \"C:\\Users\\Jannesh_OP\\anaconda3\\Lib\\site-packages\\sklearn\\base.py\", line 1144, in wrapper\n",
      "    estimator._validate_params()\n",
      "  File \"C:\\Users\\Jannesh_OP\\anaconda3\\Lib\\site-packages\\sklearn\\base.py\", line 637, in _validate_params\n",
      "    validate_parameter_constraints(\n",
      "  File \"C:\\Users\\Jannesh_OP\\anaconda3\\Lib\\site-packages\\sklearn\\utils\\_param_validation.py\", line 95, in validate_parameter_constraints\n",
      "    raise InvalidParameterError(\n",
      "sklearn.utils._param_validation.InvalidParameterError: The 'activation' parameter of MLPClassifier must be a str among {'identity', 'relu', 'tanh', 'logistic'}. Got 'sigmoid' instead.\n",
      "\n",
      "  warnings.warn(some_fits_failed_message, FitFailedWarning)\n",
      "C:\\Users\\Jannesh_OP\\anaconda3\\Lib\\site-packages\\sklearn\\model_selection\\_search.py:976: UserWarning: One or more of the test scores are non-finite: [0.96934961 0.96473898 0.96486169 0.96631797 0.96307698 0.96420844\n",
      " 0.96689181 0.96513598 0.96332962 0.9655005  0.96255366 0.96425536\n",
      " 0.96378076 0.96285322 0.96861337 0.96336571 0.96393235 0.9637952\n",
      " 0.96364722 0.96308962 0.96234073 0.96274134 0.9618932  0.96087182\n",
      "        nan        nan        nan        nan        nan        nan\n",
      "        nan        nan        nan        nan        nan        nan]\n",
      "  warnings.warn(\n",
      "C:\\Users\\Jannesh_OP\\anaconda3\\Lib\\site-packages\\sklearn\\neural_network\\_multilayer_perceptron.py:691: ConvergenceWarning: Stochastic Optimizer: Maximum iterations (200) reached and the optimization hasn't converged yet.\n",
      "  warnings.warn(\n"
     ]
    },
    {
     "data": {
      "text/html": [
       "<style>#sk-container-id-5 {color: black;}#sk-container-id-5 pre{padding: 0;}#sk-container-id-5 div.sk-toggleable {background-color: white;}#sk-container-id-5 label.sk-toggleable__label {cursor: pointer;display: block;width: 100%;margin-bottom: 0;padding: 0.3em;box-sizing: border-box;text-align: center;}#sk-container-id-5 label.sk-toggleable__label-arrow:before {content: \"▸\";float: left;margin-right: 0.25em;color: #696969;}#sk-container-id-5 label.sk-toggleable__label-arrow:hover:before {color: black;}#sk-container-id-5 div.sk-estimator:hover label.sk-toggleable__label-arrow:before {color: black;}#sk-container-id-5 div.sk-toggleable__content {max-height: 0;max-width: 0;overflow: hidden;text-align: left;background-color: #f0f8ff;}#sk-container-id-5 div.sk-toggleable__content pre {margin: 0.2em;color: black;border-radius: 0.25em;background-color: #f0f8ff;}#sk-container-id-5 input.sk-toggleable__control:checked~div.sk-toggleable__content {max-height: 200px;max-width: 100%;overflow: auto;}#sk-container-id-5 input.sk-toggleable__control:checked~label.sk-toggleable__label-arrow:before {content: \"▾\";}#sk-container-id-5 div.sk-estimator input.sk-toggleable__control:checked~label.sk-toggleable__label {background-color: #d4ebff;}#sk-container-id-5 div.sk-label input.sk-toggleable__control:checked~label.sk-toggleable__label {background-color: #d4ebff;}#sk-container-id-5 input.sk-hidden--visually {border: 0;clip: rect(1px 1px 1px 1px);clip: rect(1px, 1px, 1px, 1px);height: 1px;margin: -1px;overflow: hidden;padding: 0;position: absolute;width: 1px;}#sk-container-id-5 div.sk-estimator {font-family: monospace;background-color: #f0f8ff;border: 1px dotted black;border-radius: 0.25em;box-sizing: border-box;margin-bottom: 0.5em;}#sk-container-id-5 div.sk-estimator:hover {background-color: #d4ebff;}#sk-container-id-5 div.sk-parallel-item::after {content: \"\";width: 100%;border-bottom: 1px solid gray;flex-grow: 1;}#sk-container-id-5 div.sk-label:hover label.sk-toggleable__label {background-color: #d4ebff;}#sk-container-id-5 div.sk-serial::before {content: \"\";position: absolute;border-left: 1px solid gray;box-sizing: border-box;top: 0;bottom: 0;left: 50%;z-index: 0;}#sk-container-id-5 div.sk-serial {display: flex;flex-direction: column;align-items: center;background-color: white;padding-right: 0.2em;padding-left: 0.2em;position: relative;}#sk-container-id-5 div.sk-item {position: relative;z-index: 1;}#sk-container-id-5 div.sk-parallel {display: flex;align-items: stretch;justify-content: center;background-color: white;position: relative;}#sk-container-id-5 div.sk-item::before, #sk-container-id-5 div.sk-parallel-item::before {content: \"\";position: absolute;border-left: 1px solid gray;box-sizing: border-box;top: 0;bottom: 0;left: 50%;z-index: -1;}#sk-container-id-5 div.sk-parallel-item {display: flex;flex-direction: column;z-index: 1;position: relative;background-color: white;}#sk-container-id-5 div.sk-parallel-item:first-child::after {align-self: flex-end;width: 50%;}#sk-container-id-5 div.sk-parallel-item:last-child::after {align-self: flex-start;width: 50%;}#sk-container-id-5 div.sk-parallel-item:only-child::after {width: 0;}#sk-container-id-5 div.sk-dashed-wrapped {border: 1px dashed gray;margin: 0 0.4em 0.5em 0.4em;box-sizing: border-box;padding-bottom: 0.4em;background-color: white;}#sk-container-id-5 div.sk-label label {font-family: monospace;font-weight: bold;display: inline-block;line-height: 1.2em;}#sk-container-id-5 div.sk-label-container {text-align: center;}#sk-container-id-5 div.sk-container {/* jupyter's `normalize.less` sets `[hidden] { display: none; }` but bootstrap.min.css set `[hidden] { display: none !important; }` so we also need the `!important` here to be able to override the default hidden behavior on the sphinx rendered scikit-learn.org. See: https://github.com/scikit-learn/scikit-learn/issues/21755 */display: inline-block !important;position: relative;}#sk-container-id-5 div.sk-text-repr-fallback {display: none;}</style><div id=\"sk-container-id-5\" class=\"sk-top-container\"><div class=\"sk-text-repr-fallback\"><pre>GridSearchCV(cv=2, estimator=MLPClassifier(), n_jobs=-1,\n",
       "             param_grid={&#x27;activation&#x27;: [&#x27;relu&#x27;, &#x27;tanh&#x27;, &#x27;sigmoid&#x27;],\n",
       "                         &#x27;alpha&#x27;: [0.0001, 0.001, 0.01],\n",
       "                         &#x27;hidden_layer_sizes&#x27;: [50, 100],\n",
       "                         &#x27;learning_rate&#x27;: [&#x27;constant&#x27;, &#x27;adaptive&#x27;],\n",
       "                         &#x27;solver&#x27;: [&#x27;sgd&#x27;]},\n",
       "             verbose=10)</pre><b>In a Jupyter environment, please rerun this cell to show the HTML representation or trust the notebook. <br />On GitHub, the HTML representation is unable to render, please try loading this page with nbviewer.org.</b></div><div class=\"sk-container\" hidden><div class=\"sk-item sk-dashed-wrapped\"><div class=\"sk-label-container\"><div class=\"sk-label sk-toggleable\"><input class=\"sk-toggleable__control sk-hidden--visually\" id=\"sk-estimator-id-11\" type=\"checkbox\" ><label for=\"sk-estimator-id-11\" class=\"sk-toggleable__label sk-toggleable__label-arrow\">GridSearchCV</label><div class=\"sk-toggleable__content\"><pre>GridSearchCV(cv=2, estimator=MLPClassifier(), n_jobs=-1,\n",
       "             param_grid={&#x27;activation&#x27;: [&#x27;relu&#x27;, &#x27;tanh&#x27;, &#x27;sigmoid&#x27;],\n",
       "                         &#x27;alpha&#x27;: [0.0001, 0.001, 0.01],\n",
       "                         &#x27;hidden_layer_sizes&#x27;: [50, 100],\n",
       "                         &#x27;learning_rate&#x27;: [&#x27;constant&#x27;, &#x27;adaptive&#x27;],\n",
       "                         &#x27;solver&#x27;: [&#x27;sgd&#x27;]},\n",
       "             verbose=10)</pre></div></div></div><div class=\"sk-parallel\"><div class=\"sk-parallel-item\"><div class=\"sk-item\"><div class=\"sk-label-container\"><div class=\"sk-label sk-toggleable\"><input class=\"sk-toggleable__control sk-hidden--visually\" id=\"sk-estimator-id-12\" type=\"checkbox\" ><label for=\"sk-estimator-id-12\" class=\"sk-toggleable__label sk-toggleable__label-arrow\">estimator: MLPClassifier</label><div class=\"sk-toggleable__content\"><pre>MLPClassifier()</pre></div></div></div><div class=\"sk-serial\"><div class=\"sk-item\"><div class=\"sk-estimator sk-toggleable\"><input class=\"sk-toggleable__control sk-hidden--visually\" id=\"sk-estimator-id-13\" type=\"checkbox\" ><label for=\"sk-estimator-id-13\" class=\"sk-toggleable__label sk-toggleable__label-arrow\">MLPClassifier</label><div class=\"sk-toggleable__content\"><pre>MLPClassifier()</pre></div></div></div></div></div></div></div></div></div></div>"
      ],
      "text/plain": [
       "GridSearchCV(cv=2, estimator=MLPClassifier(), n_jobs=-1,\n",
       "             param_grid={'activation': ['relu', 'tanh', 'sigmoid'],\n",
       "                         'alpha': [0.0001, 0.001, 0.01],\n",
       "                         'hidden_layer_sizes': [50, 100],\n",
       "                         'learning_rate': ['constant', 'adaptive'],\n",
       "                         'solver': ['sgd']},\n",
       "             verbose=10)"
      ]
     },
     "execution_count": 62,
     "metadata": {},
     "output_type": "execute_result"
    }
   ],
   "source": [
    "# Perform grid search with Stochastic Gradient Descent solver\n",
    "grid_sgd = GridSearchCV(mlp, parameter_box,cv=2, verbose=10,n_jobs=-1)\n",
    "grid_sgd.fit(X_train, y_train)"
   ]
  },
  {
   "cell_type": "code",
   "execution_count": 63,
   "id": "9489b53a",
   "metadata": {},
   "outputs": [
    {
     "name": "stdout",
     "output_type": "stream",
     "text": [
      "Best parameters found:  {'activation': 'relu', 'alpha': 0.0001, 'hidden_layer_sizes': 50, 'learning_rate': 'constant', 'solver': 'sgd'}\n",
      "Best score:  0.9693496088388209\n"
     ]
    }
   ],
   "source": [
    "print(\"Best parameters found: \", grid_sgd.best_params_)\n",
    "print(\"Best score: \", grid_sgd.best_score_)"
   ]
  },
  {
   "cell_type": "code",
   "execution_count": 64,
   "id": "943cea27",
   "metadata": {},
   "outputs": [],
   "source": [
    "sgd_model = grid_sgd.best_estimator_"
   ]
  },
  {
   "cell_type": "code",
   "execution_count": 65,
   "id": "b8dbed4d",
   "metadata": {},
   "outputs": [
    {
     "name": "stdout",
     "output_type": "stream",
     "text": [
      "SGD Test Accuracy  :  97.91899753859924\n",
      "SGD Test Precision :  89.0326880263286\n",
      "SGD Test Recall    :  78.46240775171982\n",
      "SGD Test F1 Score  :  82.91870361705875\n"
     ]
    }
   ],
   "source": [
    "y_pred_sgd = sgd_model.predict(X_test)\n",
    "accuracy_sgd = accuracy_score(y_test, y_pred_sgd)\n",
    "precision_sgd = precision_score(y_test, y_pred_sgd, average='macro')\n",
    "recall_sgd = recall_score(y_test, y_pred_sgd, average='macro')\n",
    "f1_sgd= f1_score(y_test, y_pred_sgd, average='macro')\n",
    "\n",
    "print(\"SGD Test Accuracy  : \", accuracy_sgd*100)\n",
    "print(\"SGD Test Precision : \", precision_sgd*100)\n",
    "print(\"SGD Test Recall    : \", recall_sgd*100)\n",
    "print(\"SGD Test F1 Score  : \", f1_sgd*100)"
   ]
  },
  {
   "cell_type": "code",
   "execution_count": 83,
   "id": "11831ebd",
   "metadata": {},
   "outputs": [],
   "source": [
    "solvers = ['Adam','lbfgs','sgd']\n",
    "acc_total = [accuracy_adam, accuracy_lbfgs, accuracy_sgd]  \n",
    "prec_total = [precision_adam, precision_lbfgs, precision_sgd] \n",
    "recall_total=[recall_adam, recall_lbfgs, recall_sgd]\n",
    "f1_total = [f1_adam, f1_lbfgs, f1_sgd]  \n",
    "colors=['skyblue','salmon','lightgreen']"
   ]
  },
  {
   "cell_type": "code",
   "execution_count": 88,
   "id": "fe0470fd",
   "metadata": {},
   "outputs": [
    {
     "data": {
      "image/png": "[encoded data removed]",
      "text/plain": [
       "<Figure size 500x500 with 1 Axes>"
      ]
     },
     "metadata": {},
     "output_type": "display_data"
    }
   ],
   "source": [
    "import matplotlib.pyplot as plt\n",
    "# Plotting the comparison of accuracy\n",
    "plt.figure(figsize=(5, 5))\n",
    "plt.bar(solvers, acc_total, color=colors,width=0.5)\n",
    "plt.xlabel('Solver')\n",
    "plt.ylabel('Accuracy')\n",
    "plt.title('Comparison of Accuracy between Solvers')\n",
    "plt.yticks([0.0,0.1,0.2,0.3,0.4,0.5,0.6,0.7,0.8,0.9,1.0])\n",
    "plt.ylim(0, 1)  # set the y-axis limit to 0-1 for accuracy\n",
    "\n",
    "plt.show()\n"
   ]
  },
  {
   "cell_type": "code",
   "execution_count": 85,
   "id": "adb453ec",
   "metadata": {},
   "outputs": [
    {
     "data": {
      "image/png": "[encoded data removed]",
      "text/plain": [
       "<Figure size 500x500 with 1 Axes>"
      ]
     },
     "metadata": {},
     "output_type": "display_data"
    }
   ],
   "source": [
    "# Plotting the comparison of precision\n",
    "plt.figure(figsize=(5, 5))\n",
    "plt.bar(solvers, prec_total, color=colors,width=0.4)\n",
    "plt.xlabel('Solver')\n",
    "plt.ylabel('Precision')\n",
    "plt.title('Comparison of Precision between Solvers')\n",
    "plt.ylim(0, 1)  # set the y-axis limit to 0-1 for precision\n",
    "plt.yticks([0.0,0.1,0.2,0.3,0.4,0.5,0.6,0.7,0.8,0.9,1.0])\n",
    "plt.show()"
   ]
  },
  {
   "cell_type": "code",
   "execution_count": 86,
   "id": "a2e014fa",
   "metadata": {},
   "outputs": [
    {
     "data": {
      "image/png": "[encoded data removed]",
      "text/plain": [
       "<Figure size 500x500 with 1 Axes>"
      ]
     },
     "metadata": {},
     "output_type": "display_data"
    }
   ],
   "source": [
    "# Plotting the comparison of recall\n",
    "plt.figure(figsize=(5, 5))\n",
    "plt.bar(solvers, recall_total, color=colors,width=0.4)\n",
    "plt.xlabel('Solver')\n",
    "plt.ylabel('Recall')\n",
    "plt.title('Comparison of Recall Scores between Solvers')\n",
    "plt.ylim(0, 1)  # set the y-axis limit to 0-1 for precision\n",
    "plt.yticks([i/10 for i in range(11)])\n",
    "plt.show()\n"
   ]
  },
  {
   "cell_type": "code",
   "execution_count": 87,
   "id": "81a33dbb",
   "metadata": {},
   "outputs": [
    {
     "data": {
      "image/png": "[encoded data removed]",
      "text/plain": [
       "<Figure size 500x500 with 1 Axes>"
      ]
     },
     "metadata": {},
     "output_type": "display_data"
    }
   ],
   "source": [
    "# Plotting the comparison of F1 score\n",
    "plt.figure(figsize=(5, 5))\n",
    "plt.bar(solvers,f1_total, color=colors,width=0.4)\n",
    "plt.xlabel('Solver')\n",
    "plt.ylabel('F1 Score')\n",
    "plt.title('Comparison of F1 Score between Solvers')\n",
    "plt.ylim(0, 1)  # set the y-axis limit to 0-1 for F1 score\n",
    "plt.yticks([i/10 for i in range(11)])\n",
    "plt.show()\n"
   ]
  },
  {
   "cell_type": "code",
   "execution_count": null,
   "id": "441f4764",
   "metadata": {},
   "outputs": [],
   "source": []
  },
  {
   "cell_type": "code",
   "execution_count": null,
   "id": "ddddbf1c",
   "metadata": {},
   "outputs": [],
   "source": []
  }
 ],
 "metadata": {
  "kernelspec": {
   "display_name": "Python 3 (ipykernel)",
   "language": "python",
   "name": "python3"
  },
  "language_info": {
   "codemirror_mode": {
    "name": "ipython",
    "version": 3
   },
   "file_extension": ".py",
   "mimetype": "text/x-python",
   "name": "python",
   "nbconvert_exporter": "python",
   "pygments_lexer": "ipython3",
   "version": "3.9.7"
  }
 },
 "nbformat": 4,
 "nbformat_minor": 5
}
