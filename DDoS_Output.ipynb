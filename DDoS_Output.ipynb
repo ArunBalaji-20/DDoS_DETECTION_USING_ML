{
 "cells": [
  {
   "cell_type": "code",
   "execution_count": 9,
   "id": "3889a236",
   "metadata": {},
   "outputs": [],
   "source": [
    "import joblib"
   ]
  },
  {
   "cell_type": "code",
   "execution_count": 10,
   "id": "cddc16d5",
   "metadata": {},
   "outputs": [
    {
     "name": "stderr",
     "output_type": "stream",
     "text": [
      "C:\\Users\\Arun balaji\\AppData\\Local\\Programs\\Python\\Python39\\lib\\site-packages\\sklearn\\base.py:376: InconsistentVersionWarning: Trying to unpickle estimator LabelBinarizer from version 1.3.0 when using version 1.4.1.post1. This might lead to breaking code or invalid results. Use at your own risk. For more info please refer to:\n",
      "https://scikit-learn.org/stable/model_persistence.html#security-maintainability-limitations\n",
      "  warnings.warn(\n",
      "C:\\Users\\Arun balaji\\AppData\\Local\\Programs\\Python\\Python39\\lib\\site-packages\\sklearn\\base.py:376: InconsistentVersionWarning: Trying to unpickle estimator MLPClassifier from version 1.3.0 when using version 1.4.1.post1. This might lead to breaking code or invalid results. Use at your own risk. For more info please refer to:\n",
      "https://scikit-learn.org/stable/model_persistence.html#security-maintainability-limitations\n",
      "  warnings.warn(\n"
     ]
    }
   ],
   "source": [
    "mj=joblib.load('final_out.joblib')"
   ]
  },
  {
   "cell_type": "code",
   "execution_count": 14,
   "id": "780779d9",
   "metadata": {},
   "outputs": [],
   "source": [
    "result=mj.predict([[1.22161650e-03, 0.00000000e+00, 2.77500006e-01, 1.00000405e-08,\n",
    "       2.10548997e-03, 0.00000000e+00]])"
   ]
  },
  {
   "cell_type": "code",
   "execution_count": 15,
   "id": "b22140e9",
   "metadata": {},
   "outputs": [],
   "source": [
    "lst=['Benign','DDoS slowloris','DDoS Slowhttptest','DDoS Hulk','DDoS GoldenEye']"
   ]
  },
  {
   "cell_type": "code",
   "execution_count": 16,
   "id": "1491a696",
   "metadata": {},
   "outputs": [
    {
     "name": "stdout",
     "output_type": "stream",
     "text": [
      "DDoS GoldenEye\n"
     ]
    }
   ],
   "source": [
    "print(lst[result[0]])"
   ]
  },
  {
   "cell_type": "code",
   "execution_count": null,
   "id": "fb92dcb8",
   "metadata": {},
   "outputs": [],
   "source": []
  }
 ],
 "metadata": {
  "kernelspec": {
   "display_name": "Python 3 (ipykernel)",
   "language": "python",
   "name": "python3"
  },
  "language_info": {
   "codemirror_mode": {
    "name": "ipython",
    "version": 3
   },
   "file_extension": ".py",
   "mimetype": "text/x-python",
   "name": "python",
   "nbconvert_exporter": "python",
   "pygments_lexer": "ipython3",
   "version": "3.9.7"
  }
 },
 "nbformat": 4,
 "nbformat_minor": 5
}
